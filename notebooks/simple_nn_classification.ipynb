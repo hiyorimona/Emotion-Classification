{
 "cells": [
  {
   "cell_type": "code",
   "execution_count": 19,
   "id": "initial_id",
   "metadata": {
    "ExecuteTime": {
     "end_time": "2024-06-07T18:16:46.403726300Z",
     "start_time": "2024-06-07T18:16:46.380729300Z"
    }
   },
   "outputs": [],
   "source": [
    "import os\n",
    "import numpy as np\n",
    "import pandas as pd\n",
    "import warnings\n",
    "from tqdm import tqdm\n",
    "import joblib\n",
    "import keras\n",
    "import matplotlib.pyplot as plt\n",
    "\n",
    "\n",
    "#from keras.preprocessing.text import Tokenizer\n",
    "from sklearn.model_selection import train_test_split\n",
    "from sklearn.preprocessing import LabelEncoder\n",
    "from tensorflow.keras.preprocessing.sequence import pad_sequences\n",
    "\n",
    "from sklearn.metrics import f1_score\n",
    "from keras.models import Sequential\n",
    "from keras.layers import Embedding, Flatten, Dense, Dropout, BatchNormalization, LSTM, Bidirectional, SimpleRNN"
   ]
  },
  {
   "cell_type": "code",
   "execution_count": 26,
   "id": "153ad973-2f39-490d-b9cc-75471466e03a",
   "metadata": {
    "ExecuteTime": {
     "end_time": "2024-06-07T18:17:13.511769700Z",
     "start_time": "2024-06-07T18:17:13.492239300Z"
    }
   },
   "outputs": [],
   "source": [
    "from src.preprocessor import data_reader, clean_string, data_prep\n",
    "from src.nn.params import f1"
   ]
  },
  {
   "cell_type": "code",
   "execution_count": 21,
   "outputs": [],
   "source": [
    "warnings.filterwarnings(\"ignore\")\n",
    "pd.set_option('display.max_colwidth',None)\n",
    "tqdm.pandas()"
   ],
   "metadata": {
    "collapsed": false,
    "ExecuteTime": {
     "end_time": "2024-06-07T18:16:48.501773900Z",
     "start_time": "2024-06-07T18:16:48.483155800Z"
    }
   },
   "id": "221a17b871a76d76"
  },
  {
   "cell_type": "code",
   "execution_count": 22,
   "outputs": [],
   "source": [
    "data_dir =  os.path.join(os.path.sep.join(os.getcwd().split(os.path.sep)[:-1]), \"data\")"
   ],
   "metadata": {
    "collapsed": false,
    "ExecuteTime": {
     "end_time": "2024-06-07T18:16:49.070146100Z",
     "start_time": "2024-06-07T18:16:49.053135800Z"
    }
   },
   "id": "2635726f8234196a"
  },
  {
   "cell_type": "code",
   "execution_count": 23,
   "id": "f9d89a451912a0cf",
   "metadata": {
    "collapsed": false,
    "ExecuteTime": {
     "end_time": "2024-06-07T18:16:50.324714500Z",
     "start_time": "2024-06-07T18:16:49.529706300Z"
    }
   },
   "outputs": [],
   "source": [
    "df_train = pd.read_csv(os.path.join(data_dir,\"dataset.csv\")).loc[lambda x: x[\"emotion\"] != \"neutral\"]\n",
    "df_test = pd.read_csv(os.path.join(data_dir,\"test_set.csv\"))"
   ]
  },
  {
   "cell_type": "code",
   "execution_count": 24,
   "outputs": [
    {
     "data": {
      "text/plain": "                                                                                                                                   sentence  \\\n0                       I just do not know i feel like i am just way to paranoid i want to trust but its hard been hurt way to many times .   \n1                                                                  I want to be with him so bad that i feel i am being tortured right now .   \n2     I spent most of the day alone and several hours feeling unimportant because we were going to hang out together but nothing happened .   \n3  I am feeling so horny that i will make love to you if you are here and let you shoot in me hoping that my egg and your sperm can unite .   \n4                                                                  I do love feeling all clever when i do understand what they are saying .   \n\n     emotion  \n0       fear  \n1      anger  \n2    sadness  \n3  happiness  \n4  happiness  ",
      "text/html": "<div>\n<style scoped>\n    .dataframe tbody tr th:only-of-type {\n        vertical-align: middle;\n    }\n\n    .dataframe tbody tr th {\n        vertical-align: top;\n    }\n\n    .dataframe thead th {\n        text-align: right;\n    }\n</style>\n<table border=\"1\" class=\"dataframe\">\n  <thead>\n    <tr style=\"text-align: right;\">\n      <th></th>\n      <th>sentence</th>\n      <th>emotion</th>\n    </tr>\n  </thead>\n  <tbody>\n    <tr>\n      <th>0</th>\n      <td>I just do not know i feel like i am just way to paranoid i want to trust but its hard been hurt way to many times .</td>\n      <td>fear</td>\n    </tr>\n    <tr>\n      <th>1</th>\n      <td>I want to be with him so bad that i feel i am being tortured right now .</td>\n      <td>anger</td>\n    </tr>\n    <tr>\n      <th>2</th>\n      <td>I spent most of the day alone and several hours feeling unimportant because we were going to hang out together but nothing happened .</td>\n      <td>sadness</td>\n    </tr>\n    <tr>\n      <th>3</th>\n      <td>I am feeling so horny that i will make love to you if you are here and let you shoot in me hoping that my egg and your sperm can unite .</td>\n      <td>happiness</td>\n    </tr>\n    <tr>\n      <th>4</th>\n      <td>I do love feeling all clever when i do understand what they are saying .</td>\n      <td>happiness</td>\n    </tr>\n  </tbody>\n</table>\n</div>"
     },
     "execution_count": 24,
     "metadata": {},
     "output_type": "execute_result"
    }
   ],
   "source": [
    "df_train.head(5)"
   ],
   "metadata": {
    "collapsed": false,
    "ExecuteTime": {
     "end_time": "2024-06-07T18:16:50.342028500Z",
     "start_time": "2024-06-07T18:16:50.331719900Z"
    }
   },
   "id": "26d7e915b2d84240"
  },
  {
   "cell_type": "code",
   "execution_count": 25,
   "id": "047b751e-aa93-4452-8c2b-775cbb88fb14",
   "metadata": {
    "ExecuteTime": {
     "end_time": "2024-06-07T18:16:50.955379900Z",
     "start_time": "2024-06-07T18:16:50.609183900Z"
    }
   },
   "outputs": [
    {
     "data": {
      "text/plain": "emotion\nhappiness    224422\nsadness      143454\nanger         77918\nfear          59695\nsurprise      35989\ndisgust        5550\nName: count, dtype: int64"
     },
     "execution_count": 25,
     "metadata": {},
     "output_type": "execute_result"
    }
   ],
   "source": [
    "# Cleaning\n",
    "df_train.drop_duplicates(keep='first',inplace=True)\n",
    "df_train.dropna(inplace=True)\n",
    "df_train[\"emotion\"].value_counts()"
   ]
  },
  {
   "cell_type": "code",
   "execution_count": 27,
   "id": "a2051eb7ab5e21d4",
   "metadata": {
    "collapsed": false,
    "ExecuteTime": {
     "end_time": "2024-06-07T18:17:16.338441500Z",
     "start_time": "2024-06-07T18:17:16.314071300Z"
    }
   },
   "outputs": [
    {
     "ename": "TypeError",
     "evalue": "__init__() missing 1 required positional argument: 'string'",
     "output_type": "error",
     "traceback": [
      "\u001B[1;31m---------------------------------------------------------------------------\u001B[0m",
      "\u001B[1;31mTypeError\u001B[0m                                 Traceback (most recent call last)",
      "Cell \u001B[1;32mIn[27], line 1\u001B[0m\n\u001B[1;32m----> 1\u001B[0m tokenizer \u001B[38;5;241m=\u001B[39m \u001B[43mTokenizer\u001B[49m\u001B[43m(\u001B[49m\u001B[43m)\u001B[49m\n\u001B[0;32m      2\u001B[0m label_encoder \u001B[38;5;241m=\u001B[39m LabelEncoder()\n\u001B[0;32m      3\u001B[0m pd\u001B[38;5;241m.\u001B[39mset_option(\u001B[38;5;124m'\u001B[39m\u001B[38;5;124mdisplay.max_colwidth\u001B[39m\u001B[38;5;124m'\u001B[39m,\u001B[38;5;28;01mNone\u001B[39;00m)\n",
      "\u001B[1;31mTypeError\u001B[0m: __init__() missing 1 required positional argument: 'string'"
     ]
    }
   ],
   "source": [
    "tokenizer = Tokenizer()\n",
    "label_encoder = LabelEncoder()\n",
    "pd.set_option('display.max_colwidth',None)\n",
    "dfs, keys = data_reader('data')"
   ]
  },
  {
   "cell_type": "code",
   "execution_count": 103,
   "id": "5ba7835239958ff",
   "metadata": {
    "ExecuteTime": {
     "end_time": "2024-03-22T13:59:48.226908300Z",
     "start_time": "2024-03-22T13:59:48.215401Z"
    },
    "collapsed": false
   },
   "outputs": [],
   "source": [
    "for i, variable_name in enumerate(keys):\n",
    "    globals()[variable_name] = dfs[i]"
   ]
  },
  {
   "cell_type": "code",
   "execution_count": 104,
   "id": "ece2996b-1b3e-4797-987d-98022504e8c5",
   "metadata": {},
   "outputs": [
    {
     "name": "stdout",
     "output_type": "stream",
     "text": [
      "all_datasets: (646214, 2)\n",
      "all_datasets_stem_no_stopwords  : (646214, 2)\n",
      "all_datasets_evenly_distributed : (163374, 2)\n",
      "all_datasets_without_reddit : (646214, 2)\n",
      "all_datasets_without_reddit_stem_no_stopwords : (493698, 2)\n",
      "all_datasets_without_reddit_evenly_distributed : (163374, 2)\n",
      "all_datasets_without_reddit_evenly_distributed_stem_no_stopwords : (89352, 2)\n"
     ]
    }
   ],
   "source": [
    "print(f'all_datasets: {all_datasets.shape}')\n",
    "print(f'all_datasets_stem_no_stopwords  : {all_datasets_stem_no_stopwords.shape}')\n",
    "print(f'all_datasets_evenly_distributed : {all_datasets_evenly_distributed.shape}')\n",
    "\n",
    "print(f'all_datasets_without_reddit : {all_datasets_without_reddit.shape}')\n",
    "print(f'all_datasets_without_reddit_stem_no_stopwords : {all_datasets_without_reddit_stem_no_stopwords.shape}')\n",
    "\n",
    "print(f'all_datasets_without_reddit_evenly_distributed : {all_datasets_without_reddit_evenly_distributed.shape}')\n",
    "print(f'all_datasets_without_reddit_evenly_distributed_stem_no_stopwords : {all_datasets_without_reddit_evenly_distributed_stem_no_stopwords.shape}')"
   ]
  },
  {
   "cell_type": "code",
   "execution_count": 105,
   "id": "aa4d4a11-8953-4b6f-a535-4b4f6d866a3d",
   "metadata": {},
   "outputs": [
    {
     "name": "stderr",
     "output_type": "stream",
     "text": [
      "100%|██████████| 1436/1436 [00:00<00:00, 8294.30it/s]\n"
     ]
    }
   ],
   "source": [
    "df = df_old\n",
    "y_true['sentence'] = y_true['sentence'].progress_apply(lambda x: clean_string(x,stem=\"None\"))"
   ]
  },
  {
   "cell_type": "code",
   "execution_count": 106,
   "id": "ceb27243-8fd2-4eb8-8604-16bcdac30197",
   "metadata": {},
   "outputs": [],
   "source": [
    "texts = df[\"sentence\"].tolist()\n",
    "labels = df[\"emotion\"].tolist()\n",
    "\n",
    "# Fit tokenizer on the texts to create word indices\n",
    "tokenizer.fit_on_texts(texts)\n",
    "sequences = tokenizer.texts_to_sequences(texts)\n",
    "\n",
    "# Pad sequences to ensure uniform length\n",
    "max_length = max([len(seq) for seq in sequences])\n",
    "padded_sequences = pad_sequences(sequences, maxlen=max_length)\n",
    "\n",
    "# Encode the string labels to integers\n",
    "labels = label_encoder.fit_transform(labels)\n",
    "\n",
    "# One-hot encode the labels\n",
    "one_hot_labels = keras.utils.to_categorical(labels)     "
   ]
  },
  {
   "cell_type": "code",
   "execution_count": 107,
   "id": "b6559e2d-9b89-4e5b-b51f-07c597b895f5",
   "metadata": {},
   "outputs": [],
   "source": [
    "# Split the data into training and testing sets\n",
    "xtrain, xtest, ytrain, ytest = train_test_split(padded_sequences,\n",
    "                                                one_hot_labels,\n",
    "                                                test_size=0.2,\n",
    "                                                random_state=42)"
   ]
  },
  {
   "cell_type": "code",
   "execution_count": 108,
   "id": "6d70203c-7780-40e2-b442-dfa1c9a524b8",
   "metadata": {},
   "outputs": [],
   "source": [
    "def f1(y_true, y_pred):\n",
    "    def recall_m(y_true, y_pred):\n",
    "        TP = K.sum(K.round(K.clip(y_true * y_pred, 0, 1)))\n",
    "        Positives = K.sum(K.round(K.clip(y_true, 0, 1)))\n",
    "        recall = TP / (Positives+K.epsilon())\n",
    "        return recall\n",
    "\n",
    "    def precision_m(y_true, y_pred):\n",
    "        TP = K.sum(K.round(K.clip(y_true * y_pred, 0, 1)))\n",
    "        Pred_Positives = K.sum(K.round(K.clip(y_pred, 0, 1)))\n",
    "        precision = TP / (Pred_Positives+K.epsilon())\n",
    "        return precision\n",
    "\n",
    "    precision, recall = precision_m(y_true, y_pred), recall_m(y_true, y_pred)\n",
    "\n",
    "    return 2*((precision*recall)/(precision+recall+K.epsilon()))"
   ]
  },
  {
   "cell_type": "code",
   "execution_count": 109,
   "id": "660e193a-2302-4d96-a176-55b2838fee42",
   "metadata": {},
   "outputs": [],
   "source": [
    "#Simple model\n",
    "model = Sequential()\n",
    "model.add(Embedding(input_dim=len(tokenizer.word_index) + 1,\n",
    "                    output_dim=6, input_length=max_length))\n",
    "model.add(Flatten())\n",
    "model.add(Dense(units=128, activation=\"relu\"))\n",
    "model.add(Dropout(0.5)) \n",
    "model.add(BatchNormalization()) \n",
    "\n",
    "model.add(Dense(units=len(one_hot_labels[0]), activation=\"softmax\"))"
   ]
  },
  {
   "cell_type": "code",
   "execution_count": 110,
   "id": "e51aaffe-9409-41e9-89ed-6a3476cf1f25",
   "metadata": {},
   "outputs": [
    {
     "name": "stdout",
     "output_type": "stream",
     "text": [
      "Epoch 1/10\n",
      "13676/13676 [==============================] - 92s 7ms/step - loss: 0.4305 - accuracy: 0.8575 - f1: 0.8552 - val_loss: 0.2805 - val_accuracy: 0.9030 - val_f1: 0.9116\n",
      "Epoch 2/10\n",
      "13676/13676 [==============================] - 68s 5ms/step - loss: 0.3014 - accuracy: 0.8986 - f1: 0.9049 - val_loss: 0.2620 - val_accuracy: 0.9093 - val_f1: 0.9165\n",
      "Epoch 3/10\n",
      "13676/13676 [==============================] - 71s 5ms/step - loss: 0.2702 - accuracy: 0.9080 - f1: 0.9135 - val_loss: 0.2564 - val_accuracy: 0.9118 - val_f1: 0.9171\n",
      "Epoch 4/10\n",
      "13676/13676 [==============================] - 70s 5ms/step - loss: 0.2498 - accuracy: 0.9143 - f1: 0.9194 - val_loss: 0.2580 - val_accuracy: 0.9125 - val_f1: 0.9183\n",
      "Epoch 5/10\n",
      "13676/13676 [==============================] - 71s 5ms/step - loss: 0.2358 - accuracy: 0.9192 - f1: 0.9238 - val_loss: 0.2541 - val_accuracy: 0.9147 - val_f1: 0.9206\n",
      "Epoch 6/10\n",
      "13676/13676 [==============================] - 67s 5ms/step - loss: 0.2253 - accuracy: 0.9225 - f1: 0.9271 - val_loss: 0.2554 - val_accuracy: 0.9153 - val_f1: 0.9207\n",
      "Epoch 7/10\n",
      "13676/13676 [==============================] - 69s 5ms/step - loss: 0.2171 - accuracy: 0.9256 - f1: 0.9296 - val_loss: 0.2552 - val_accuracy: 0.9165 - val_f1: 0.9218\n",
      "Epoch 8/10\n",
      "13676/13676 [==============================] - 67s 5ms/step - loss: 0.2097 - accuracy: 0.9279 - f1: 0.9321 - val_loss: 0.2582 - val_accuracy: 0.9154 - val_f1: 0.9208\n",
      "Epoch 9/10\n",
      "13676/13676 [==============================] - 64s 5ms/step - loss: 0.2040 - accuracy: 0.9298 - f1: 0.9336 - val_loss: 0.2613 - val_accuracy: 0.9166 - val_f1: 0.9215\n",
      "Epoch 10/10\n",
      "13676/13676 [==============================] - 69s 5ms/step - loss: 0.2009 - accuracy: 0.9305 - f1: 0.9346 - val_loss: 0.2602 - val_accuracy: 0.9161 - val_f1: 0.9217\n"
     ]
    }
   ],
   "source": [
    "model.compile(optimizer=\"adam\", loss=\"categorical_crossentropy\", metrics=[\"accuracy\",f1])\n",
    "H = model.fit(xtrain, ytrain,\n",
    "              epochs=10,\n",
    "              batch_size=32,\n",
    "              validation_data=(xtest, ytest))"
   ]
  },
  {
   "cell_type": "code",
   "execution_count": 111,
   "id": "c40f5593-7a26-41e8-a465-2ae5394e8fe9",
   "metadata": {},
   "outputs": [
    {
     "name": "stdout",
     "output_type": "stream",
     "text": [
      "3419/3419 [==============================] - 6s 2ms/step - loss: 0.2602 - accuracy: 0.9161 - f1: 0.9217\n"
     ]
    },
    {
     "data": {
      "text/plain": [
       "[0.2602151930332184, 0.9161380529403687, 0.9216707944869995]"
      ]
     },
     "execution_count": 111,
     "metadata": {},
     "output_type": "execute_result"
    }
   ],
   "source": [
    "model.evaluate(xtest,ytest)"
   ]
  },
  {
   "cell_type": "code",
   "execution_count": 112,
   "id": "dcd568cb-fd16-40a7-b5be-fab54f8b298a",
   "metadata": {},
   "outputs": [
    {
     "data": {
      "image/png": "[encoded data removed]",
      "text/plain": [
       "<Figure size 640x480 with 1 Axes>"
      ]
     },
     "metadata": {},
     "output_type": "display_data"
    }
   ],
   "source": [
    "# Plot training & validation f1/\n",
    "plt.plot(H.history['f1'])\n",
    "plt.plot(H.history['val_f1'])\n",
    "plt.title('Model F1')\n",
    "plt.ylabel('F1 score')\n",
    "plt.xlabel('Epoch')\n",
    "plt.legend(['Train', 'Validation'], loc='upper left')\n",
    "plt.show()"
   ]
  },
  {
   "cell_type": "code",
   "execution_count": 113,
   "id": "e92c2e09-fe2e-4d3c-b83a-0edb2316865a",
   "metadata": {},
   "outputs": [
    {
     "name": "stdout",
     "output_type": "stream",
     "text": [
      "1/1 [==============================] - 0s 63ms/step\n",
      "It makes me furious when my roomates forgets to flush.\n",
      "['anger']\n"
     ]
    }
   ],
   "source": [
    "example_text = df_test['sentence'].sample().iloc[0]\n",
    "\n",
    "# Preprocess the input text\n",
    "test_sequence = tokenizer.texts_to_sequences([example_text])\n",
    "padded_input_sequence = pad_sequences(test_sequence, maxlen=max_length)\n",
    "\n",
    "y_pred = model.predict(padded_input_sequence)\n",
    "predicted_label = label_encoder.inverse_transform([np.argmax(y_pred[0])])\n",
    "\n",
    "print(example_text)\n",
    "print(predicted_label)"
   ]
  },
  {
   "cell_type": "code",
   "execution_count": 114,
   "id": "5cb2e471-5f19-4db9-9c8b-ba87e614a212",
   "metadata": {},
   "outputs": [
    {
     "name": "stdout",
     "output_type": "stream",
     "text": [
      "45/45 [==============================] - 0s 1ms/step\n"
     ]
    },
    {
     "data": {
      "text/plain": [
       "emotion\n",
       "happiness    439\n",
       "anger        310\n",
       "sadness      227\n",
       "fear         213\n",
       "surprise     187\n",
       "disgust       60\n",
       "Name: count, dtype: int64"
      ]
     },
     "execution_count": 114,
     "metadata": {},
     "output_type": "execute_result"
    }
   ],
   "source": [
    "text = y_true['sentence']\n",
    "predictions = y_true.copy()\n",
    "\n",
    "test_sequences = tokenizer.texts_to_sequences(text)\n",
    "padded_test_sequences = pad_sequences(test_sequences, maxlen=max_length)\n",
    "\n",
    "y_preds = model.predict(padded_test_sequences)\n",
    "predicted_labels = label_encoder.inverse_transform([np.argmax(pred) for pred in y_preds])\n",
    "\n",
    "predictions['emotion'] = predicted_labels\n",
    "predictions['emotion'].value_counts()"
   ]
  },
  {
   "cell_type": "code",
   "execution_count": 115,
   "id": "1eac7567-eb80-4f1a-86ea-d2a29583f917",
   "metadata": {},
   "outputs": [],
   "source": [
    "assert predictions.shape == y_true.shape"
   ]
  },
  {
   "cell_type": "code",
   "execution_count": 116,
   "id": "fbcdf489-696f-4486-b511-076e091589c2",
   "metadata": {},
   "outputs": [
    {
     "data": {
      "text/plain": [
       "0.6503999684885589"
      ]
     },
     "execution_count": 116,
     "metadata": {},
     "output_type": "execute_result"
    }
   ],
   "source": [
    "f1_score(predictions['emotion'], y_true['emotion'], average='weighted')"
   ]
  },
  {
   "cell_type": "code",
   "execution_count": null,
   "id": "9bbc0bbb-aa43-482a-9d96-366e57bf7938",
   "metadata": {},
   "outputs": [],
   "source": [
    "def save_sub_model(model,sub_name, model_name):\n",
    "    predictions[['id','emotion']].to_csv(f'submissions/{sub_name}.csv',index=False)\n",
    "    joblib.dump(model,f'models/{model_name}.keras')\n",
    "    return predictions[['id','emotion']]"
   ]
  },
  {
   "cell_type": "code",
   "execution_count": null,
   "id": "64bcdae9-d7c3-4d61-9a38-45ed8e18fa52",
   "metadata": {},
   "outputs": [],
   "source": [
    "#submission = save_sub_model(model,'rnn_emotion_detection_1','rnn_20_03_1')"
   ]
  }
 ],
 "metadata": {
  "kernelspec": {
   "display_name": "Python 3 (ipykernel)",
   "language": "python",
   "name": "python3"
  },
  "language_info": {
   "codemirror_mode": {
    "name": "ipython",
    "version": 3
   },
   "file_extension": ".py",
   "mimetype": "text/x-python",
   "name": "python",
   "nbconvert_exporter": "python",
   "pygments_lexer": "ipython3",
   "version": "3.11.0rc1"
  }
 },
 "nbformat": 4,
 "nbformat_minor": 5
}
