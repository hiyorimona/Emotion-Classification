{
 "cells": [
  {
   "cell_type": "markdown",
   "metadata": {
    "id": "MJvidoTew1ML"
   },
   "source": [
    "# Prepocessing dataset"
   ]
  },
  {
   "cell_type": "code",
   "execution_count": 1,
   "metadata": {
    "id": "xnH9pmq_jO1l",
    "ExecuteTime": {
     "end_time": "2024-06-07T17:43:03.096938300Z",
     "start_time": "2024-06-07T17:42:56.465260200Z"
    }
   },
   "outputs": [],
   "source": [
    "import os\n",
    "import numpy as np\n",
    "import pandas as pd\n",
    "import warnings\n",
    "import tqdm.notebook as tq\n",
    "import matplotlib.pyplot as plt\n",
    "\n",
    "import torch\n",
    "import torch.nn as nn\n",
    "from collections import defaultdict\n",
    "from sklearn.metrics import f1_score\n",
    "from sklearn.model_selection import train_test_split\n",
    "from sklearn.metrics import classification_report\n",
    "\n",
    "from transformers import RobertaTokenizer\n",
    "from transformers import AdamW\n",
    "\n",
    "from src.preprocessor import balancing_multiple_classes\n",
    "from src.config_train import *\n",
    "from src.roberta.roberta_tokenizer import TokenizedDataset\n",
    "from src.roberta.roberta_model import RobertaClassification"
   ]
  },
  {
   "cell_type": "code",
   "execution_count": 2,
   "outputs": [],
   "source": [
    "warnings.filterwarnings(\"ignore\")\n",
    "pd.set_option('display.max_colwidth',None)"
   ],
   "metadata": {
    "collapsed": false,
    "ExecuteTime": {
     "end_time": "2024-06-07T17:43:03.113931600Z",
     "start_time": "2024-06-07T17:43:03.101588900Z"
    }
   }
  },
  {
   "cell_type": "code",
   "execution_count": 3,
   "outputs": [],
   "source": [
    "data_dir =  os.path.join(os.path.sep.join(os.getcwd().split(os.path.sep)[:-1]), \"data\")"
   ],
   "metadata": {
    "collapsed": false,
    "ExecuteTime": {
     "end_time": "2024-06-07T17:43:03.131938700Z",
     "start_time": "2024-06-07T17:43:03.116574100Z"
    }
   }
  },
  {
   "cell_type": "code",
   "execution_count": 4,
   "metadata": {
    "id": "IPKEHEYKVt9p",
    "ExecuteTime": {
     "end_time": "2024-06-07T17:43:03.873363600Z",
     "start_time": "2024-06-07T17:43:03.131938700Z"
    }
   },
   "outputs": [],
   "source": [
    "df_train = pd.read_csv(os.path.join(data_dir,\"dataset.csv\")).loc[lambda x: x[\"emotion\"] != \"neutral\"]\n",
    "df_test = pd.read_csv(os.path.join(data_dir,\"test_set.csv\"))"
   ]
  },
  {
   "cell_type": "code",
   "execution_count": 5,
   "metadata": {
    "ExecuteTime": {
     "end_time": "2024-06-07T17:43:03.890666300Z",
     "start_time": "2024-06-07T17:43:03.874644700Z"
    }
   },
   "outputs": [
    {
     "data": {
      "text/plain": "                                                                                                                                   sentence  \\\n0                       I just do not know i feel like i am just way to paranoid i want to trust but its hard been hurt way to many times .   \n1                                                                  I want to be with him so bad that i feel i am being tortured right now .   \n2     I spent most of the day alone and several hours feeling unimportant because we were going to hang out together but nothing happened .   \n3  I am feeling so horny that i will make love to you if you are here and let you shoot in me hoping that my egg and your sperm can unite .   \n4                                                                  I do love feeling all clever when i do understand what they are saying .   \n\n     emotion  \n0       fear  \n1      anger  \n2    sadness  \n3  happiness  \n4  happiness  ",
      "text/html": "<div>\n<style scoped>\n    .dataframe tbody tr th:only-of-type {\n        vertical-align: middle;\n    }\n\n    .dataframe tbody tr th {\n        vertical-align: top;\n    }\n\n    .dataframe thead th {\n        text-align: right;\n    }\n</style>\n<table border=\"1\" class=\"dataframe\">\n  <thead>\n    <tr style=\"text-align: right;\">\n      <th></th>\n      <th>sentence</th>\n      <th>emotion</th>\n    </tr>\n  </thead>\n  <tbody>\n    <tr>\n      <th>0</th>\n      <td>I just do not know i feel like i am just way to paranoid i want to trust but its hard been hurt way to many times .</td>\n      <td>fear</td>\n    </tr>\n    <tr>\n      <th>1</th>\n      <td>I want to be with him so bad that i feel i am being tortured right now .</td>\n      <td>anger</td>\n    </tr>\n    <tr>\n      <th>2</th>\n      <td>I spent most of the day alone and several hours feeling unimportant because we were going to hang out together but nothing happened .</td>\n      <td>sadness</td>\n    </tr>\n    <tr>\n      <th>3</th>\n      <td>I am feeling so horny that i will make love to you if you are here and let you shoot in me hoping that my egg and your sperm can unite .</td>\n      <td>happiness</td>\n    </tr>\n    <tr>\n      <th>4</th>\n      <td>I do love feeling all clever when i do understand what they are saying .</td>\n      <td>happiness</td>\n    </tr>\n  </tbody>\n</table>\n</div>"
     },
     "execution_count": 5,
     "metadata": {},
     "output_type": "execute_result"
    }
   ],
   "source": [
    "df_train.head(5)"
   ]
  },
  {
   "cell_type": "code",
   "execution_count": 6,
   "outputs": [
    {
     "data": {
      "text/plain": "emotion\nhappiness    224422\nsadness      143454\nanger         77918\nfear          59695\nsurprise      35989\ndisgust        5550\nName: count, dtype: int64"
     },
     "execution_count": 6,
     "metadata": {},
     "output_type": "execute_result"
    }
   ],
   "source": [
    "# Cleaning\n",
    "df_train.drop_duplicates(keep='first',inplace=True)\n",
    "df_train.dropna(inplace=True)\n",
    "df_train[\"emotion\"].value_counts()"
   ],
   "metadata": {
    "collapsed": false,
    "ExecuteTime": {
     "end_time": "2024-06-07T17:43:04.332560800Z",
     "start_time": "2024-06-07T17:43:03.890666300Z"
    }
   }
  },
  {
   "cell_type": "code",
   "execution_count": 7,
   "metadata": {
    "ExecuteTime": {
     "end_time": "2024-06-07T17:43:04.555013100Z",
     "start_time": "2024-06-07T17:43:04.322930200Z"
    }
   },
   "outputs": [
    {
     "data": {
      "text/plain": "emotion\nhappiness    5550\nsadness      5550\nanger        5550\nfear         5550\nsurprise     5550\ndisgust      5550\nName: count, dtype: int64"
     },
     "execution_count": 7,
     "metadata": {},
     "output_type": "execute_result"
    }
   ],
   "source": [
    "df_balanced = balancing_multiple_classes(df_train,'emotion')\n",
    "df_balanced['emotion'].value_counts()"
   ]
  },
  {
   "cell_type": "code",
   "execution_count": 8,
   "metadata": {
    "ExecuteTime": {
     "end_time": "2024-06-07T17:43:04.611359300Z",
     "start_time": "2024-06-07T17:43:04.523591700Z"
    }
   },
   "outputs": [],
   "source": [
    "emotion_dummies_train = pd.get_dummies(df_train['emotion'])\n",
    "emotion_dummies_train = emotion_dummies_train.astype(int)\n",
    "\n",
    "emotion_dummies_test = pd.get_dummies(df_test['emotion'])\n",
    "emotion_dummies_test = emotion_dummies_test.astype(int)"
   ]
  },
  {
   "cell_type": "code",
   "execution_count": 9,
   "metadata": {
    "colab": {
     "base_uri": "https://localhost:8080/",
     "height": 499
    },
    "id": "ap6Fv9HLxRBm",
    "outputId": "1a5b18af-7d36-4691-a3cf-33ef5321e9f8",
    "ExecuteTime": {
     "end_time": "2024-06-07T17:43:04.621806800Z",
     "start_time": "2024-06-07T17:43:04.571183700Z"
    }
   },
   "outputs": [
    {
     "data": {
      "text/plain": "                                                                     sentence  \\\n0                                       Girls are happy when they get flowers   \n1  His jaw dropped in disbelief when he saw the price of the concert tickets.   \n2                          Sometimes the ugly stench makes me wanna throw up.   \n3                          The foul odor from the garbage bin was disgusting.   \n\n   anger  disgust  fear  happiness  sadness  surprise  \n0      0        0     0          1        0         0  \n1      0        0     0          0        0         1  \n2      0        1     0          0        0         0  \n3      0        1     0          0        0         0  ",
      "text/html": "<div>\n<style scoped>\n    .dataframe tbody tr th:only-of-type {\n        vertical-align: middle;\n    }\n\n    .dataframe tbody tr th {\n        vertical-align: top;\n    }\n\n    .dataframe thead th {\n        text-align: right;\n    }\n</style>\n<table border=\"1\" class=\"dataframe\">\n  <thead>\n    <tr style=\"text-align: right;\">\n      <th></th>\n      <th>sentence</th>\n      <th>anger</th>\n      <th>disgust</th>\n      <th>fear</th>\n      <th>happiness</th>\n      <th>sadness</th>\n      <th>surprise</th>\n    </tr>\n  </thead>\n  <tbody>\n    <tr>\n      <th>0</th>\n      <td>Girls are happy when they get flowers</td>\n      <td>0</td>\n      <td>0</td>\n      <td>0</td>\n      <td>1</td>\n      <td>0</td>\n      <td>0</td>\n    </tr>\n    <tr>\n      <th>1</th>\n      <td>His jaw dropped in disbelief when he saw the price of the concert tickets.</td>\n      <td>0</td>\n      <td>0</td>\n      <td>0</td>\n      <td>0</td>\n      <td>0</td>\n      <td>1</td>\n    </tr>\n    <tr>\n      <th>2</th>\n      <td>Sometimes the ugly stench makes me wanna throw up.</td>\n      <td>0</td>\n      <td>1</td>\n      <td>0</td>\n      <td>0</td>\n      <td>0</td>\n      <td>0</td>\n    </tr>\n    <tr>\n      <th>3</th>\n      <td>The foul odor from the garbage bin was disgusting.</td>\n      <td>0</td>\n      <td>1</td>\n      <td>0</td>\n      <td>0</td>\n      <td>0</td>\n      <td>0</td>\n    </tr>\n  </tbody>\n</table>\n</div>"
     },
     "execution_count": 9,
     "metadata": {},
     "output_type": "execute_result"
    }
   ],
   "source": [
    "df_train_main = pd.concat([df_train['sentence'], emotion_dummies_train], axis=1)\n",
    "df_test_main = pd.concat([df_test['sentence'], emotion_dummies_test], axis=1)\n",
    "\n",
    "df_test_main.head(4)"
   ]
  },
  {
   "cell_type": "code",
   "execution_count": 10,
   "metadata": {
    "id": "CouOCg2d_H1S",
    "ExecuteTime": {
     "end_time": "2024-06-07T17:43:04.677693700Z",
     "start_time": "2024-06-07T17:43:04.601323500Z"
    }
   },
   "outputs": [
    {
     "data": {
      "text/plain": "disgust      0.015\nfear         0.116\nhappiness    0.394\nsadness      0.265\nsurprise     0.063\ndtype: float64"
     },
     "execution_count": 10,
     "metadata": {},
     "output_type": "execute_result"
    }
   ],
   "source": [
    "sample = df_train_main.sample(n = 1000, random_state = 4)\n",
    "columns = sample.columns\n",
    "freq = sample[columns[2:]].sum()/sample.shape[0]\n",
    "freq"
   ]
  },
  {
   "cell_type": "code",
   "execution_count": 11,
   "metadata": {
    "colab": {
     "base_uri": "https://localhost:8080/",
     "height": 204
    },
    "id": "lWpsDK6cXAXQ",
    "outputId": "988475c6-f490-49e6-c51a-df60f4e0641a",
    "ExecuteTime": {
     "end_time": "2024-06-07T17:43:04.727049Z",
     "start_time": "2024-06-07T17:43:04.634881200Z"
    }
   },
   "outputs": [
    {
     "data": {
      "text/plain": "                                                                                        sentence  \\\n528526                                            Well . . . perhaps you should think about it .   \n126699                                                                Haha if only he had reddit   \n324090                       i feel good and am gaining weight much better than i did with diego   \n482598  i am feeling a bit unsure of myself as i document the beautiful birth of my fourth child   \n502760                                                        i feel so disgusted as i type this   \n\n        anger  disgust  fear  happiness  sadness  surprise  \n528526      1        0     0          0        0         0  \n126699      0        0     0          1        0         0  \n324090      0        0     0          1        0         0  \n482598      0        0     1          0        0         0  \n502760      1        0     0          0        0         0  ",
      "text/html": "<div>\n<style scoped>\n    .dataframe tbody tr th:only-of-type {\n        vertical-align: middle;\n    }\n\n    .dataframe tbody tr th {\n        vertical-align: top;\n    }\n\n    .dataframe thead th {\n        text-align: right;\n    }\n</style>\n<table border=\"1\" class=\"dataframe\">\n  <thead>\n    <tr style=\"text-align: right;\">\n      <th></th>\n      <th>sentence</th>\n      <th>anger</th>\n      <th>disgust</th>\n      <th>fear</th>\n      <th>happiness</th>\n      <th>sadness</th>\n      <th>surprise</th>\n    </tr>\n  </thead>\n  <tbody>\n    <tr>\n      <th>528526</th>\n      <td>Well . . . perhaps you should think about it .</td>\n      <td>1</td>\n      <td>0</td>\n      <td>0</td>\n      <td>0</td>\n      <td>0</td>\n      <td>0</td>\n    </tr>\n    <tr>\n      <th>126699</th>\n      <td>Haha if only he had reddit</td>\n      <td>0</td>\n      <td>0</td>\n      <td>0</td>\n      <td>1</td>\n      <td>0</td>\n      <td>0</td>\n    </tr>\n    <tr>\n      <th>324090</th>\n      <td>i feel good and am gaining weight much better than i did with diego</td>\n      <td>0</td>\n      <td>0</td>\n      <td>0</td>\n      <td>1</td>\n      <td>0</td>\n      <td>0</td>\n    </tr>\n    <tr>\n      <th>482598</th>\n      <td>i am feeling a bit unsure of myself as i document the beautiful birth of my fourth child</td>\n      <td>0</td>\n      <td>0</td>\n      <td>1</td>\n      <td>0</td>\n      <td>0</td>\n      <td>0</td>\n    </tr>\n    <tr>\n      <th>502760</th>\n      <td>i feel so disgusted as i type this</td>\n      <td>1</td>\n      <td>0</td>\n      <td>0</td>\n      <td>0</td>\n      <td>0</td>\n      <td>0</td>\n    </tr>\n  </tbody>\n</table>\n</div>"
     },
     "execution_count": 11,
     "metadata": {},
     "output_type": "execute_result"
    }
   ],
   "source": [
    "sample.head()"
   ]
  },
  {
   "cell_type": "markdown",
   "metadata": {},
   "source": [
    "# RoBERTa Multi-class text classification"
   ]
  },
  {
   "cell_type": "code",
   "execution_count": 12,
   "metadata": {
    "ExecuteTime": {
     "end_time": "2024-06-07T17:43:04.728045500Z",
     "start_time": "2024-06-07T17:43:04.646889300Z"
    }
   },
   "outputs": [],
   "source": [
    "device = torch.device('cuda') if torch.cuda.is_available() else torch.device('cpu')"
   ]
  },
  {
   "cell_type": "code",
   "execution_count": 13,
   "metadata": {
    "ExecuteTime": {
     "end_time": "2024-06-07T17:43:05.150815200Z",
     "start_time": "2024-06-07T17:43:04.664153800Z"
    }
   },
   "outputs": [],
   "source": [
    "training_df, validation_df = train_test_split(df_train_main, random_state=77, test_size=0.30, shuffle=True)\n",
    "testing_df = df_test_main.copy()"
   ]
  },
  {
   "cell_type": "code",
   "execution_count": 14,
   "metadata": {
    "ExecuteTime": {
     "end_time": "2024-06-07T17:43:05.151914700Z",
     "start_time": "2024-06-07T17:43:04.778442700Z"
    }
   },
   "outputs": [
    {
     "name": "stdout",
     "output_type": "stream",
     "text": [
      "Train: (382919, 7), Val: (164109, 7), Test: (1436, 7)\n"
     ]
    }
   ],
   "source": [
    "print(f\"Train: {training_df.shape}, Val: {validation_df.shape}, Test: {testing_df.shape}\")"
   ]
  },
  {
   "cell_type": "code",
   "execution_count": 15,
   "metadata": {
    "ExecuteTime": {
     "end_time": "2024-06-07T17:43:05.558243800Z",
     "start_time": "2024-06-07T17:43:04.790896300Z"
    }
   },
   "outputs": [],
   "source": [
    "tokenizer = RobertaTokenizer.from_pretrained('roberta-base')"
   ]
  },
  {
   "cell_type": "code",
   "execution_count": 16,
   "metadata": {
    "ExecuteTime": {
     "end_time": "2024-06-07T17:43:05.573874200Z",
     "start_time": "2024-06-07T17:43:05.203868Z"
    }
   },
   "outputs": [
    {
     "name": "stdout",
     "output_type": "stream",
     "text": [
      "original sentence: \n",
      "When my brother ( 5 th in the family ) passed away .\n",
      "\n",
      "tokenized sentence: \n",
      "{'input_ids': tensor([[   0, 1779,  127, 2138,   36,  195, 3553,   11,    5,  284, 4839, 1595,\n",
      "          409,  479,    2,    1,    1,    1,    1,    1,    1,    1,    1,    1,\n",
      "            1,    1,    1,    1,    1,    1,    1,    1,    1,    1,    1,    1,\n",
      "            1,    1,    1,    1,    1,    1,    1,    1,    1,    1,    1,    1,\n",
      "            1,    1]]), 'attention_mask': tensor([[1, 1, 1, 1, 1, 1, 1, 1, 1, 1, 1, 1, 1, 1, 1, 0, 0, 0, 0, 0, 0, 0, 0, 0,\n",
      "         0, 0, 0, 0, 0, 0, 0, 0, 0, 0, 0, 0, 0, 0, 0, 0, 0, 0, 0, 0, 0, 0, 0, 0,\n",
      "         0, 0]])}\n"
     ]
    }
   ],
   "source": [
    "test_text = training_df['sentence'].sample().iloc[0]\n",
    "\n",
    "encodings = tokenizer.encode_plus(test_text, \n",
    "                                  add_special_tokens = True,\n",
    "                                  max_length = 50,\n",
    "                                  truncation = True,\n",
    "                                  padding = \"max_length\", \n",
    "                                  return_attention_mask = True, \n",
    "                                  return_tensors = \"pt\")\n",
    "\n",
    "print(f\"original sentence: \\n{test_text}\\n\")\n",
    "print(f\"tokenized sentence: \\n{encodings}\")"
   ]
  },
  {
   "cell_type": "code",
   "execution_count": 17,
   "metadata": {
    "ExecuteTime": {
     "end_time": "2024-06-07T17:43:05.573874200Z",
     "start_time": "2024-06-07T17:43:05.231564Z"
    }
   },
   "outputs": [
    {
     "data": {
      "text/plain": "['anger', 'disgust', 'fear', 'happiness', 'sadness', 'surprise']"
     },
     "execution_count": 17,
     "metadata": {},
     "output_type": "execute_result"
    }
   ],
   "source": [
    "emotion_list = emotion_dummies_train.columns.tolist()\n",
    "emotion_list"
   ]
  },
  {
   "cell_type": "code",
   "execution_count": 18,
   "metadata": {
    "ExecuteTime": {
     "end_time": "2024-06-07T17:43:05.573874200Z",
     "start_time": "2024-06-07T17:43:05.249902Z"
    }
   },
   "outputs": [],
   "source": [
    "train_dataset = TokenizedDataset(df_train_main, tokenizer, MAX_LEN, emotion_list)\n",
    "val_dataset = TokenizedDataset(validation_df, tokenizer, MAX_LEN, emotion_list)\n",
    "test_dataset = TokenizedDataset(testing_df, tokenizer, MAX_LEN, emotion_list)"
   ]
  },
  {
   "cell_type": "code",
   "execution_count": 19,
   "metadata": {
    "ExecuteTime": {
     "end_time": "2024-06-07T17:43:05.573874200Z",
     "start_time": "2024-06-07T17:43:05.323321100Z"
    }
   },
   "outputs": [
    {
     "data": {
      "text/plain": "{'input_ids': tensor([    0, 33722,    32,  1372,    77,    51,   120,  7716,     2,     1,\n             1,     1,     1,     1,     1,     1,     1,     1,     1,     1,\n             1,     1,     1,     1,     1,     1,     1,     1,     1,     1,\n             1,     1,     1,     1,     1,     1,     1,     1,     1,     1,\n             1,     1,     1,     1,     1,     1,     1,     1,     1,     1,\n             1,     1,     1,     1,     1,     1,     1,     1,     1,     1,\n             1,     1,     1,     1,     1,     1,     1,     1,     1,     1,\n             1,     1,     1,     1,     1,     1,     1,     1,     1,     1,\n             1,     1,     1,     1,     1,     1,     1,     1,     1,     1,\n             1,     1,     1,     1,     1,     1,     1,     1,     1,     1,\n             1,     1,     1,     1,     1,     1,     1,     1,     1,     1,\n             1,     1,     1,     1,     1,     1,     1,     1,     1,     1,\n             1,     1,     1,     1,     1,     1,     1,     1,     1,     1,\n             1,     1,     1,     1,     1,     1,     1,     1,     1,     1,\n             1,     1,     1,     1,     1,     1,     1,     1,     1,     1,\n             1,     1,     1,     1,     1,     1,     1,     1,     1,     1,\n             1,     1,     1,     1,     1,     1,     1,     1,     1,     1,\n             1,     1,     1,     1,     1,     1,     1,     1,     1,     1,\n             1,     1,     1,     1,     1,     1,     1,     1,     1,     1,\n             1,     1,     1,     1,     1,     1,     1,     1,     1,     1,\n             1,     1,     1,     1,     1,     1,     1,     1,     1,     1,\n             1,     1,     1,     1,     1,     1,     1,     1,     1,     1,\n             1,     1,     1,     1,     1,     1,     1,     1,     1,     1,\n             1,     1,     1,     1,     1,     1,     1,     1,     1,     1,\n             1,     1,     1,     1,     1,     1,     1,     1,     1,     1,\n             1,     1,     1,     1,     1,     1]),\n 'attention_mask': tensor([1, 1, 1, 1, 1, 1, 1, 1, 1, 0, 0, 0, 0, 0, 0, 0, 0, 0, 0, 0, 0, 0, 0, 0,\n         0, 0, 0, 0, 0, 0, 0, 0, 0, 0, 0, 0, 0, 0, 0, 0, 0, 0, 0, 0, 0, 0, 0, 0,\n         0, 0, 0, 0, 0, 0, 0, 0, 0, 0, 0, 0, 0, 0, 0, 0, 0, 0, 0, 0, 0, 0, 0, 0,\n         0, 0, 0, 0, 0, 0, 0, 0, 0, 0, 0, 0, 0, 0, 0, 0, 0, 0, 0, 0, 0, 0, 0, 0,\n         0, 0, 0, 0, 0, 0, 0, 0, 0, 0, 0, 0, 0, 0, 0, 0, 0, 0, 0, 0, 0, 0, 0, 0,\n         0, 0, 0, 0, 0, 0, 0, 0, 0, 0, 0, 0, 0, 0, 0, 0, 0, 0, 0, 0, 0, 0, 0, 0,\n         0, 0, 0, 0, 0, 0, 0, 0, 0, 0, 0, 0, 0, 0, 0, 0, 0, 0, 0, 0, 0, 0, 0, 0,\n         0, 0, 0, 0, 0, 0, 0, 0, 0, 0, 0, 0, 0, 0, 0, 0, 0, 0, 0, 0, 0, 0, 0, 0,\n         0, 0, 0, 0, 0, 0, 0, 0, 0, 0, 0, 0, 0, 0, 0, 0, 0, 0, 0, 0, 0, 0, 0, 0,\n         0, 0, 0, 0, 0, 0, 0, 0, 0, 0, 0, 0, 0, 0, 0, 0, 0, 0, 0, 0, 0, 0, 0, 0,\n         0, 0, 0, 0, 0, 0, 0, 0, 0, 0, 0, 0, 0, 0, 0, 0]),\n 'token_type_ids': tensor([0, 0, 0, 0, 0, 0, 0, 0, 0, 0, 0, 0, 0, 0, 0, 0, 0, 0, 0, 0, 0, 0, 0, 0,\n         0, 0, 0, 0, 0, 0, 0, 0, 0, 0, 0, 0, 0, 0, 0, 0, 0, 0, 0, 0, 0, 0, 0, 0,\n         0, 0, 0, 0, 0, 0, 0, 0, 0, 0, 0, 0, 0, 0, 0, 0, 0, 0, 0, 0, 0, 0, 0, 0,\n         0, 0, 0, 0, 0, 0, 0, 0, 0, 0, 0, 0, 0, 0, 0, 0, 0, 0, 0, 0, 0, 0, 0, 0,\n         0, 0, 0, 0, 0, 0, 0, 0, 0, 0, 0, 0, 0, 0, 0, 0, 0, 0, 0, 0, 0, 0, 0, 0,\n         0, 0, 0, 0, 0, 0, 0, 0, 0, 0, 0, 0, 0, 0, 0, 0, 0, 0, 0, 0, 0, 0, 0, 0,\n         0, 0, 0, 0, 0, 0, 0, 0, 0, 0, 0, 0, 0, 0, 0, 0, 0, 0, 0, 0, 0, 0, 0, 0,\n         0, 0, 0, 0, 0, 0, 0, 0, 0, 0, 0, 0, 0, 0, 0, 0, 0, 0, 0, 0, 0, 0, 0, 0,\n         0, 0, 0, 0, 0, 0, 0, 0, 0, 0, 0, 0, 0, 0, 0, 0, 0, 0, 0, 0, 0, 0, 0, 0,\n         0, 0, 0, 0, 0, 0, 0, 0, 0, 0, 0, 0, 0, 0, 0, 0, 0, 0, 0, 0, 0, 0, 0, 0,\n         0, 0, 0, 0, 0, 0, 0, 0, 0, 0, 0, 0, 0, 0, 0, 0]),\n 'emotion': tensor([0., 0., 0., 1., 0., 0.]),\n 'sentence': 'Girls are happy when they get flowers'}"
     },
     "execution_count": 19,
     "metadata": {},
     "output_type": "execute_result"
    }
   ],
   "source": [
    "next(iter(test_dataset))"
   ]
  },
  {
   "cell_type": "code",
   "execution_count": 20,
   "metadata": {
    "ExecuteTime": {
     "end_time": "2024-06-07T17:43:05.573874200Z",
     "start_time": "2024-06-07T17:43:05.339557600Z"
    }
   },
   "outputs": [],
   "source": [
    "# Data loaders\n",
    "train_data_loader = torch.utils.data.DataLoader(train_dataset, \n",
    "    batch_size=TRAIN_BATCH_SIZE,\n",
    "    shuffle=True,\n",
    "    num_workers=0\n",
    ")\n",
    "\n",
    "val_data_loader = torch.utils.data.DataLoader(val_dataset, \n",
    "    batch_size=VALID_BATCH_SIZE,\n",
    "    shuffle=False,\n",
    "    num_workers=0\n",
    ")\n",
    "\n",
    "test_data_loader = torch.utils.data.DataLoader(test_dataset, \n",
    "    batch_size=TEST_BATCH_SIZE,\n",
    "    shuffle=False,\n",
    "    num_workers=0\n",
    ")"
   ]
  },
  {
   "cell_type": "code",
   "execution_count": 21,
   "metadata": {
    "ExecuteTime": {
     "end_time": "2024-06-07T17:47:16.854160400Z",
     "start_time": "2024-06-07T17:43:05.357554100Z"
    }
   },
   "outputs": [
    {
     "data": {
      "text/plain": "model.safetensors:   0%|          | 0.00/499M [00:00<?, ?B/s]",
      "application/vnd.jupyter.widget-view+json": {
       "version_major": 2,
       "version_minor": 0,
       "model_id": "9d09f6978be74988bc4fb6794cddd2da"
      }
     },
     "metadata": {},
     "output_type": "display_data"
    },
    {
     "name": "stderr",
     "output_type": "stream",
     "text": [
      "Some weights of RobertaForSequenceClassification were not initialized from the model checkpoint at roberta-base and are newly initialized: ['classifier.dense.bias', 'classifier.dense.weight', 'classifier.out_proj.bias', 'classifier.out_proj.weight']\n",
      "You should probably TRAIN this model on a down-stream task to be able to use it for predictions and inference.\n"
     ]
    },
    {
     "data": {
      "text/plain": "RobertaClassification(\n  (roberta): RobertaForSequenceClassification(\n    (roberta): RobertaModel(\n      (embeddings): RobertaEmbeddings(\n        (word_embeddings): Embedding(50265, 768, padding_idx=1)\n        (position_embeddings): Embedding(514, 768, padding_idx=1)\n        (token_type_embeddings): Embedding(1, 768)\n        (LayerNorm): LayerNorm((768,), eps=1e-05, elementwise_affine=True)\n        (dropout): Dropout(p=0.1, inplace=False)\n      )\n      (encoder): RobertaEncoder(\n        (layer): ModuleList(\n          (0-11): 12 x RobertaLayer(\n            (attention): RobertaAttention(\n              (self): RobertaSelfAttention(\n                (query): Linear(in_features=768, out_features=768, bias=True)\n                (key): Linear(in_features=768, out_features=768, bias=True)\n                (value): Linear(in_features=768, out_features=768, bias=True)\n                (dropout): Dropout(p=0.1, inplace=False)\n              )\n              (output): RobertaSelfOutput(\n                (dense): Linear(in_features=768, out_features=768, bias=True)\n                (LayerNorm): LayerNorm((768,), eps=1e-05, elementwise_affine=True)\n                (dropout): Dropout(p=0.1, inplace=False)\n              )\n            )\n            (intermediate): RobertaIntermediate(\n              (dense): Linear(in_features=768, out_features=3072, bias=True)\n              (intermediate_act_fn): GELUActivation()\n            )\n            (output): RobertaOutput(\n              (dense): Linear(in_features=3072, out_features=768, bias=True)\n              (LayerNorm): LayerNorm((768,), eps=1e-05, elementwise_affine=True)\n              (dropout): Dropout(p=0.1, inplace=False)\n            )\n          )\n        )\n      )\n    )\n    (classifier): RobertaClassificationHead(\n      (dense): Linear(in_features=768, out_features=768, bias=True)\n      (dropout): Dropout(p=0.1, inplace=False)\n      (out_proj): Linear(in_features=768, out_features=6, bias=True)\n    )\n  )\n)"
     },
     "execution_count": 21,
     "metadata": {},
     "output_type": "execute_result"
    }
   ],
   "source": [
    "num_labels = len(emotion_list)\n",
    "model = RobertaClassification(num_labels=num_labels)\n",
    "model.to(device)"
   ]
  },
  {
   "cell_type": "code",
   "execution_count": 23,
   "metadata": {
    "ExecuteTime": {
     "end_time": "2024-06-07T17:54:18.262458400Z",
     "start_time": "2024-06-07T17:54:18.241649800Z"
    }
   },
   "outputs": [],
   "source": [
    "def train_model(training_loader, model, optimizer, loss_fn, device):\n",
    "    \"\"\"\n",
    "    Train the model for one epoch.\n",
    "\n",
    "    Args:\n",
    "    training_loader (DataLoader): DataLoader for training data.\n",
    "    model (torch.nn.Module): The model to be trained.\n",
    "    optimizer (torch.optim.Optimizer): Optimizer for the model.\n",
    "    loss_fn (callable): Loss function.\n",
    "    device (torch.device): The device tensors will be allocated to.\n",
    "\n",
    "    Returns:\n",
    "    tuple: A tuple containing:\n",
    "        - model (torch.nn.Module): The trained model.\n",
    "        - float: The accuracy of the model on the training set.\n",
    "        - float: The average loss over the training set.\n",
    "    \"\"\"\n",
    "\n",
    "    print(\"Training:\")\n",
    "    losses = []\n",
    "    correct_predictions = 0\n",
    "    num_samples = 0\n",
    "\n",
    "    model.train()\n",
    "\n",
    "    loop = tq.tqdm(enumerate(training_loader), total=len(training_loader),\n",
    "                   leave=True, colour='steelblue')\n",
    "\n",
    "    for batch_idx, data in loop:\n",
    "        ids = data['input_ids'].to(device, dtype = torch.long)\n",
    "        mask = data['attention_mask'].to(device, dtype = torch.long)\n",
    "        emotions = data['emotion'].to(device, dtype = torch.float)\n",
    "\n",
    "        # forward\n",
    "        outputs = model(ids, mask)\n",
    "        loss = loss_fn(outputs, emotions)\n",
    "        losses.append(loss.item())\n",
    "\n",
    "        # training accuracy\n",
    "        _, preds = torch.max(outputs, dim=1) # batch dim \n",
    "        _, emotion = torch.max(emotions, dim=1)  # batch dim\n",
    "        num_samples += len(emotion)\n",
    "        correct_predictions += torch.sum(preds==emotion)\n",
    "\n",
    "        # backward\n",
    "        optimizer.zero_grad()\n",
    "        loss.backward()\n",
    "        nn.utils.clip_grad_norm_(model.parameters(), max_norm=1.0)\n",
    "\n",
    "        # grad descent step\n",
    "        optimizer.step()\n",
    "\n",
    "\n",
    "        # Update progress bar\n",
    "        loop.set_description('Training')\n",
    "        loop.set_postfix(loss=loss.item(), acc=float(correct_predictions) / num_samples)\n",
    "\n",
    "    return model, float(correct_predictions) / num_samples, np.mean(losses)"
   ]
  },
  {
   "cell_type": "code",
   "execution_count": 24,
   "metadata": {
    "ExecuteTime": {
     "end_time": "2024-06-07T17:54:19.075787600Z",
     "start_time": "2024-06-07T17:54:19.027567800Z"
    }
   },
   "outputs": [],
   "source": [
    "def eval_model(validation_loader, model, loss_fn, device):\n",
    "    \"\"\"\n",
    "    Evaluate the model on the validation set.\n",
    "\n",
    "    Args:\n",
    "    validation_loader (DataLoader): DataLoader for validation data.\n",
    "    model (torch.nn.Module): The model to be evaluated.\n",
    "    loss_fn (callable): Loss function.\n",
    "    device (torch.device): The device tensors will be allocated to.\n",
    "\n",
    "    Returns:\n",
    "    tuple: A tuple containing:\n",
    "        - float: The accuracy of the model on the validation set.\n",
    "        - float: The average loss over the validation set.\n",
    "    \"\"\"\n",
    "\n",
    "    print(\"Evaluating:\")\n",
    "    losses = []\n",
    "    correct_predictions = 0\n",
    "    num_samples = 0\n",
    "\n",
    "    model.eval()\n",
    "    loop = tq.tqdm(enumerate(validation_loader), total=len(validation_loader),\n",
    "                   leave=True, colour='#8B0000')\n",
    "\n",
    "    with torch.no_grad():\n",
    "        for batch_idx, data in loop:\n",
    "            ids = data['input_ids'].to(device, dtype=torch.long)\n",
    "            mask = data['attention_mask'].to(device, dtype=torch.long)\n",
    "            emotions = data['emotion'].to(device, dtype=torch.float)\n",
    "\n",
    "            outputs = model(ids, mask)\n",
    "            loss = loss_fn(outputs, emotions)\n",
    "            losses.append(loss.item())\n",
    "\n",
    "            _, preds = torch.max(outputs, dim=1)\n",
    "            _, emotion = torch.max(emotions, dim=1)\n",
    "            num_samples += len(emotion)\n",
    "            correct_predictions += torch.sum(preds == emotion)\n",
    "\n",
    "            # Update progress bar\n",
    "            loop.set_description('Evaluating')\n",
    "            loop.set_postfix(loss=loss.item(), acc=float(correct_predictions) / num_samples)\n",
    "\n",
    "    return float(correct_predictions) / num_samples, np.mean(losses)\n"
   ]
  },
  {
   "cell_type": "markdown",
   "metadata": {},
   "source": [
    "# Model Training"
   ]
  },
  {
   "cell_type": "code",
   "execution_count": 33,
   "metadata": {
    "ExecuteTime": {
     "end_time": "2024-04-02T17:12:24.929172700Z",
     "start_time": "2024-04-02T17:12:20.073448600Z"
    },
    "scrolled": true
   },
   "outputs": [
    {
     "name": "stdout",
     "output_type": "stream",
     "text": [
      "Epoch 1/1\n",
      "Training:\n"
     ]
    },
    {
     "data": {
      "application/vnd.jupyter.widget-view+json": {
       "model_id": "49135b977bbd42dbbd1dcfbc20ddb8ff",
       "version_major": 2,
       "version_minor": 0
      },
      "text/plain": [
       "  0%|          | 0/14232 [00:00<?, ?it/s]"
      ]
     },
     "metadata": {},
     "output_type": "display_data"
    }
   ],
   "source": [
    "# Initialize a dictionary to store training and validation history\n",
    "history = defaultdict(list)\n",
    "best_accuracy = 0\n",
    "\n",
    "# Loop over all epochs\n",
    "for epoch in range(1, EPOCHS + 1):\n",
    "    print(f'Epoch {epoch}/{EPOCHS}')\n",
    "    \n",
    "    # Train the model\n",
    "    model, train_acc, train_loss = train_model(train_data_loader, model, optimizer, loss_fn, device)\n",
    "    val_acc, val_loss = eval_model(val_data_loader, model, optimizer, loss_fn, device)\n",
    "\n",
    "    print(f'train_loss={train_loss:.4f}, val_loss={val_loss:.4f} train_acc={train_acc:.4f}, val_acc={val_acc:.4f}')\n",
    "    \n",
    "    history['train_acc'].append(train_acc)\n",
    "    history['train_loss'].append(train_loss)\n",
    "    history['val_acc'].append(val_acc)\n",
    "    history['val_loss'].append(val_loss)\n",
    "    \n",
    "    # save the best model\n",
    "    if val_acc > best_accuracy:\n",
    "        torch.save(model.state_dict(), os.path.join(\"models\",\"roberta_model.bin\"))\n",
    "        best_accuracy = val_acc"
   ]
  },
  {
   "cell_type": "code",
   "execution_count": null,
   "metadata": {},
   "outputs": [
    {
     "data": {
      "image/png": "[encoded data removed]",
      "text/plain": [
       "<Figure size 800x500 with 1 Axes>"
      ]
     },
     "metadata": {},
     "output_type": "display_data"
    }
   ],
   "source": [
    "plt.rcParams[\"figure.figsize\"] = (8,5)\n",
    "plt.plot(history['train_acc'], label='train accuracy')\n",
    "plt.plot(history['val_acc'], label='validation accuracy')\n",
    "plt.title('Training history')\n",
    "plt.ylabel('Accuracy')\n",
    "plt.xlabel('Epoch')\n",
    "plt.legend()\n",
    "plt.ylim([0, 1])\n",
    "plt.grid()"
   ]
  },
  {
   "cell_type": "code",
   "execution_count": 13,
   "metadata": {},
   "outputs": [],
   "source": [
    "def get_predictions(model, data_loader):\n",
    "    \"\"\"\n",
    "    Obtain predictions from a model based on the input from a data loader.\n",
    "\n",
    "    This function processes batches of sentences from the data loader, performs\n",
    "    predictions using the provided model, and gathers the outputs including sentences,\n",
    "    predictions, prediction probabilities, and emotion values.\n",
    "\n",
    "    Args:\n",
    "        model (torch.nn.Module): The model to use for predictions, expected to be in evaluation mode.\n",
    "        data_loader (DataLoader): A PyTorch DataLoader containing the dataset for prediction.\n",
    "\n",
    "    Returns:\n",
    "        tuple: A tuple containing four lists:\n",
    "            - sentences (list[str]): The original sentences from the data loader.\n",
    "            - predictions (list[int]): The predicted class indices for each sentence.\n",
    "            - prediction_probs (list[list[float]]): The probabilities for each class for each sentence.\n",
    "            - emotion_values (list[int]): The emotion values extracted from the dataset.\n",
    "    \"\"\"\n",
    "    model.eval()\n",
    "\n",
    "    sentences = []\n",
    "    predictions = []\n",
    "    prediction_probs = []\n",
    "    emotion_values = []\n",
    "\n",
    "    with torch.no_grad():\n",
    "        for data in data_loader:\n",
    "            sentence = data[\"sentence\"]\n",
    "            ids = data[\"input_ids\"].to(device, dtype=torch.long)\n",
    "            mask = data[\"attention_mask\"].to(device, dtype=torch.long)\n",
    "            emotions = data[\"emotion\"].to(device, dtype=torch.float)\n",
    "\n",
    "            outputs = model(ids, mask)\n",
    "            _, preds = torch.max(outputs, dim=1)\n",
    "            _, emotion = torch.max(emotions, dim=1)\n",
    "\n",
    "            sentences.extend(sentence)\n",
    "            predictions.extend(preds.tolist())  # Convert tensor to list\n",
    "            prediction_probs.extend(outputs.tolist())  # Convert tensor to list\n",
    "            emotion_values.extend(emotions.argmax(dim=1).tolist())  # Convert tensor to list\n",
    "\n",
    "    return sentences, predictions, prediction_probs, emotion_values"
   ]
  },
  {
   "cell_type": "code",
   "execution_count": 36,
   "metadata": {},
   "outputs": [],
   "source": [
    "sentences, predictions, prediction_probs, emotion_values = get_predictions(model, test_data_loader)"
   ]
  },
  {
   "cell_type": "code",
   "execution_count": 37,
   "metadata": {},
   "outputs": [
    {
     "name": "stdout",
     "output_type": "stream",
     "text": [
      "              precision    recall  f1-score   support\n",
      "\n",
      "       anger       0.89      0.87      0.88       253\n",
      "     disgust       0.86      0.95      0.90       199\n",
      "        fear       0.86      0.93      0.89       215\n",
      "   happiness       0.96      0.95      0.95       263\n",
      "     sadness       0.94      0.82      0.88       289\n",
      "    surprise       0.88      0.91      0.89       217\n",
      "\n",
      "    accuracy                           0.90      1436\n",
      "   macro avg       0.90      0.90      0.90      1436\n",
      "weighted avg       0.90      0.90      0.90      1436\n"
     ]
    }
   ],
   "source": [
    "print(classification_report(emotion_values, predictions, target_names=emotion_list))"
   ]
  },
  {
   "cell_type": "code",
   "execution_count": 39,
   "metadata": {},
   "outputs": [
    {
     "name": "stdout",
     "output_type": "stream",
     "text": [
      "F1 score on test set: 0.8987679248718544\n"
     ]
    }
   ],
   "source": [
    "emotion_mapping = {'anger': 0, 'disgust': 1, 'fear': 2, 'happiness': 3, 'sadness': 4, 'surprise': 5}\n",
    "\n",
    "predicted_emotions = [emotion for label in predictions for emotion, encoded_label in emotion_mapping.items() if label == encoded_label]\n",
    "\n",
    "print('F1 score on test set: {}'.format(f1_score(df_test['emotion'], predicted_emotions, average='weighted')))"
   ]
  }
 ],
 "metadata": {
  "colab": {
   "collapsed_sections": [],
   "machine_shape": "hm",
   "name": "data-preparation.ipynb",
   "provenance": []
  },
  "kernelspec": {
   "display_name": "Python 3 (ipykernel)",
   "language": "python",
   "name": "python3"
  },
  "language_info": {
   "codemirror_mode": {
    "name": "ipython",
    "version": 3
   },
   "file_extension": ".py",
   "mimetype": "text/x-python",
   "name": "python",
   "nbconvert_exporter": "python",
   "pygments_lexer": "ipython3",
   "version": "3.12.2"
  }
 },
 "nbformat": 4,
 "nbformat_minor": 4
}
