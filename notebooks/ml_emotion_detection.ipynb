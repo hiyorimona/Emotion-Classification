{
 "cells": [
  {
   "cell_type": "code",
   "execution_count": 2,
   "id": "a999369d-d4c6-45fa-9088-79fb6c3f6ad2",
   "metadata": {},
   "outputs": [],
   "source": [
    "import sys\n",
    "sys.path.append('../emo_multiclass_Simona')"
   ]
  },
  {
   "cell_type": "code",
   "execution_count": 7,
   "id": "initial_id",
   "metadata": {
    "ExecuteTime": {
     "end_time": "2024-03-22T13:57:23.849945Z",
     "start_time": "2024-03-22T13:57:23.834305800Z"
    }
   },
   "outputs": [],
   "source": [
    "import pandas as pd\n",
    "from tqdm import tqdm\n",
    "from scripts.preprocessor import data_reader, clean_string, data_prep\n",
    "\n",
    "# machine learning packages\n",
    "from scripts.ml_functions import sentiment_prediction\n",
    "from sklearn.naive_bayes import MultinomialNB\n",
    "from sklearn.feature_extraction.text import CountVectorizer\n",
    "from sklearn.metrics import classification_report,f1_score\n",
    "from sklearn.feature_extraction.text import TfidfVectorizer\n",
    "from sklearn.linear_model import LogisticRegression\n",
    "from sklearn.model_selection import train_test_split\n",
    "from sklearn.metrics import classification_report"
   ]
  },
  {
   "cell_type": "code",
   "execution_count": 15,
   "id": "f9d89a451912a0cf",
   "metadata": {
    "ExecuteTime": {
     "end_time": "2024-03-22T13:55:45.561000900Z",
     "start_time": "2024-03-22T13:55:45.549990200Z"
    },
    "collapsed": false,
    "jupyter": {
     "outputs_hidden": false
    }
   },
   "outputs": [],
   "source": [
    "df_test = pd.read_csv('group_test.csv')\n",
    "y_true = pd.read_csv('y_true.csv')"
   ]
  },
  {
   "cell_type": "code",
   "execution_count": 4,
   "id": "a2051eb7ab5e21d4",
   "metadata": {
    "ExecuteTime": {
     "end_time": "2024-03-22T13:59:47.291923200Z",
     "start_time": "2024-03-22T13:59:43.800983100Z"
    },
    "collapsed": false,
    "jupyter": {
     "outputs_hidden": false
    }
   },
   "outputs": [
    {
     "name": "stdout",
     "output_type": "stream",
     "text": [
      "all_datasets loaded!\n",
      "all_datasets_evenly_distributed loaded!\n",
      "all_datasets_without_reddit loaded!\n",
      "all_datasets_without_reddit_stem_no_stopwords loaded!\n",
      "all_datasets_without_reddit_evenly_distributed_stem_no_stopwords loaded!\n",
      "all_datasets_without_reddit_evenly_distributed loaded!\n",
      "all_datasets_stem_no_stopwords loaded!\n"
     ]
    }
   ],
   "source": [
    "tqdm.pandas()\n",
    "pd.set_option('display.max_colwidth',None)\n",
    "dfs, keys = data_reader('data')"
   ]
  },
  {
   "cell_type": "code",
   "execution_count": 5,
   "id": "5ba7835239958ff",
   "metadata": {
    "ExecuteTime": {
     "end_time": "2024-03-22T13:59:48.226908300Z",
     "start_time": "2024-03-22T13:59:48.215401Z"
    },
    "collapsed": false,
    "jupyter": {
     "outputs_hidden": false
    }
   },
   "outputs": [],
   "source": [
    "for i, variable_name in enumerate(keys):\n",
    "    globals()[variable_name] = dfs[i]"
   ]
  },
  {
   "cell_type": "code",
   "execution_count": 6,
   "id": "ae79e5da346f4741",
   "metadata": {
    "ExecuteTime": {
     "start_time": "2024-03-22T13:59:49.469999800Z"
    },
    "collapsed": false,
    "is_executing": true,
    "jupyter": {
     "outputs_hidden": false
    }
   },
   "outputs": [
    {
     "name": "stderr",
     "output_type": "stream",
     "text": [
      "100%|██████████| 646214/646214 [01:38<00:00, 6593.74it/s]\n"
     ]
    },
    {
     "name": "stdout",
     "output_type": "stream",
     "text": [
      "emotion\n",
      "happiness    171812\n",
      "sadness      117255\n",
      "anger         57236\n",
      "fear          43277\n",
      "surprise      18657\n",
      "disgust       10858\n",
      "Name: count, dtype: int64\n"
     ]
    }
   ],
   "source": [
    "df = data_prep(all_datasets, None)"
   ]
  },
  {
   "cell_type": "code",
   "execution_count": 7,
   "id": "d1443f2cebfc132d",
   "metadata": {
    "ExecuteTime": {
     "end_time": "2024-03-22T10:23:18.676418700Z",
     "start_time": "2024-03-22T10:23:18.660390900Z"
    },
    "collapsed": false,
    "jupyter": {
     "outputs_hidden": false
    }
   },
   "outputs": [
    {
     "data": {
      "text/plain": [
       "((646214,), (646214,))"
      ]
     },
     "execution_count": 7,
     "metadata": {},
     "output_type": "execute_result"
    }
   ],
   "source": [
    "feature = 'sentence'\n",
    "X  = all_datasets[feature]\n",
    "y = all_datasets['emotion']\n",
    "(X.shape, y.shape)"
   ]
  },
  {
   "cell_type": "code",
   "execution_count": 8,
   "id": "5f7a7b73bae40651",
   "metadata": {
    "ExecuteTime": {
     "end_time": "2024-03-22T10:23:19.432070300Z",
     "start_time": "2024-03-22T10:23:19.381769100Z"
    },
    "collapsed": false,
    "jupyter": {
     "outputs_hidden": false
    }
   },
   "outputs": [],
   "source": [
    "X_train, X_test, y_train, y_test = train_test_split(X,y,test_size=0.2,random_state=42)"
   ]
  },
  {
   "cell_type": "code",
   "execution_count": 9,
   "id": "a3755b17559f5bd1",
   "metadata": {
    "ExecuteTime": {
     "end_time": "2024-03-22T10:23:20.464722300Z",
     "start_time": "2024-03-22T10:23:20.454925500Z"
    },
    "collapsed": false,
    "jupyter": {
     "outputs_hidden": false
    }
   },
   "outputs": [],
   "source": [
    "# Loading models\n",
    "lr = LogisticRegression(max_iter=1000, class_weight='balanced',penalty='l2', C=0.1)\n",
    "nb = MultinomialNB()\n",
    "# Loading vectorizers\n",
    "cv_vect = CountVectorizer()\n",
    "tfidf_vect = TfidfVectorizer(ngram_range=(1, 3),smooth_idf=False)"
   ]
  },
  {
   "cell_type": "code",
   "execution_count": 10,
   "id": "bd5a6bd74f6e89b3",
   "metadata": {
    "ExecuteTime": {
     "end_time": "2024-03-22T10:56:06.488264200Z",
     "start_time": "2024-03-22T10:56:06.468125600Z"
    },
    "collapsed": false,
    "jupyter": {
     "outputs_hidden": false
    }
   },
   "outputs": [],
   "source": [
    "models = [lr, nb]\n",
    "vects = [cv_vect, tfidf_vect]"
   ]
  },
  {
   "cell_type": "code",
   "execution_count": 12,
   "id": "d06f4c023979d24",
   "metadata": {
    "ExecuteTime": {
     "end_time": "2024-03-22T11:02:05.839606Z",
     "start_time": "2024-03-22T10:56:07.329628100Z"
    },
    "collapsed": false,
    "jupyter": {
     "outputs_hidden": false
    }
   },
   "outputs": [
    {
     "name": "stdout",
     "output_type": "stream",
     "text": [
      "Logistic Regression with Count Vectorizer\n",
      "F1 score on training set: 0.8137072090860415\n",
      "F1 score on validation set: 0.7979001272093855\n",
      "F1 score on test set: 0.5532366394476277 \t\n",
      "Logistic Regression with Tfidf Vectorizer\n",
      "F1 score on training set: 0.8175747962590142\n",
      "F1 score on validation set: 0.7922066404041194\n",
      "F1 score on test set: 0.5838784323481987 \t\n",
      "Naive Bayes with Count Vectorizer\n",
      "F1 score on training set: 0.8095896510379463\n",
      "F1 score on validation set: 0.7783491207206138\n",
      "F1 score on test set: 0.5216332315811568 \t\n",
      "Naive Bayes with Tfidf Vectorizer\n",
      "F1 score on training set: 0.691843718843427\n",
      "F1 score on validation set: 0.5975544304661733\n",
      "F1 score on test set: 0.3271902727369587 \t\n"
     ]
    }
   ],
   "source": [
    "%%time\n",
    "for model in models:\n",
    "    for vect in vects:\n",
    "        model_name = 'Logistic Regression' if model == lr else 'Naive Bayes'\n",
    "        vectorizer_name = 'Count Vectorizer' if vect == cv_vect else 'Tfidf Vectorizer'\n",
    "        print(f'{model_name} with {vectorizer_name}')\n",
    "        sentiment_prediction(df_test,y_true,model,vect,X_train,X_test,y_train,y_test,feature)"
   ]
  }
 ],
 "metadata": {
  "kernelspec": {
   "display_name": "Python 3 (ipykernel)",
   "language": "python",
   "name": "python3"
  },
  "language_info": {
   "codemirror_mode": {
    "name": "ipython",
    "version": 3
   },
   "file_extension": ".py",
   "mimetype": "text/x-python",
   "name": "python",
   "nbconvert_exporter": "python",
   "pygments_lexer": "ipython3",
   "version": "3.11.0rc1"
  }
 },
 "nbformat": 4,
 "nbformat_minor": 5
}
