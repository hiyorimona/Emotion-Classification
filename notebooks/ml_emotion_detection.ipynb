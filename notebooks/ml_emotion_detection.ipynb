{
 "cells": [
  {
   "cell_type": "code",
   "execution_count": 1,
   "id": "initial_id",
   "metadata": {
    "ExecuteTime": {
     "end_time": "2024-06-07T19:54:35.878102800Z",
     "start_time": "2024-06-07T19:54:29.665274800Z"
    }
   },
   "outputs": [],
   "source": [
    "import os\n",
    "import pandas as pd\n",
    "from tqdm import tqdm\n",
    "import warnings\n",
    "\n",
    "from sklearn.naive_bayes import MultinomialNB\n",
    "from sklearn.feature_extraction.text import CountVectorizer\n",
    "from sklearn.metrics import classification_report,f1_score\n",
    "from sklearn.feature_extraction.text import TfidfVectorizer\n",
    "from sklearn.linear_model import LogisticRegression\n",
    "from sklearn.model_selection import train_test_split\n",
    "from sklearn.metrics import classification_report\n",
    "\n",
    "from src.preprocessor import data_reader, data_prep\n",
    "from src.ml_functions import emotion_prediction"
   ]
  },
  {
   "cell_type": "code",
   "execution_count": 6,
   "outputs": [],
   "source": [
    "warnings.filterwarnings(\"ignore\")\n",
    "pd.set_option('display.max_colwidth',None)\n",
    "tqdm.pandas()"
   ],
   "metadata": {
    "collapsed": false,
    "ExecuteTime": {
     "end_time": "2024-06-07T19:44:42.755738700Z",
     "start_time": "2024-06-07T19:44:42.745777600Z"
    }
   },
   "id": "394d001b5084157f"
  },
  {
   "cell_type": "code",
   "execution_count": 7,
   "outputs": [],
   "source": [
    "data_dir =  os.path.join(os.path.sep.join(os.getcwd().split(os.path.sep)[:-1]), \"data\")\n",
    "models_dir =  os.path.join(os.path.sep.join(os.getcwd().split(os.path.sep)[:-1]), \"models\")"
   ],
   "metadata": {
    "collapsed": false,
    "ExecuteTime": {
     "end_time": "2024-06-07T19:44:46.025543300Z",
     "start_time": "2024-06-07T19:44:46.000918800Z"
    }
   },
   "id": "64e824fa6b35f129"
  },
  {
   "cell_type": "code",
   "execution_count": 8,
   "id": "f9d89a451912a0cf",
   "metadata": {
    "collapsed": false,
    "ExecuteTime": {
     "end_time": "2024-06-07T19:44:47.831628100Z",
     "start_time": "2024-06-07T19:44:47.039701400Z"
    }
   },
   "outputs": [],
   "source": [
    "df_train = pd.read_csv(os.path.join(data_dir,\"dataset.csv\")).loc[lambda x: x[\"emotion\"] != \"neutral\"]\n",
    "df_test = pd.read_csv(os.path.join(data_dir,\"test_set.csv\"))"
   ]
  },
  {
   "cell_type": "code",
   "execution_count": 9,
   "id": "a2051eb7ab5e21d4",
   "metadata": {
    "collapsed": false,
    "ExecuteTime": {
     "end_time": "2024-06-07T19:45:22.977953400Z",
     "start_time": "2024-06-07T19:45:19.031948900Z"
    }
   },
   "outputs": [
    {
     "name": "stdout",
     "output_type": "stream",
     "text": [
      "skipping group_test.csv!\n",
      "all_datasets loaded!\n",
      "all_datasets_evenly_distributed loaded!\n",
      "all_datasets_stem_no_stopwords loaded!\n",
      "all_datasets_without_reddit loaded!\n",
      "all_datasets_without_reddit_evenly_distributed loaded!\n",
      "all_datasets_without_reddit_evenly_distributed_stem_no_stopwords loaded!\n",
      "all_datasets_without_reddit_stem_no_stopwords loaded!\n"
     ]
    }
   ],
   "source": [
    "tqdm.pandas()\n",
    "pd.set_option('display.max_colwidth',None)\n",
    "dfs, keys = data_reader(os.path.join(data_dir,\"additional_datasets\"))"
   ]
  },
  {
   "cell_type": "code",
   "execution_count": 10,
   "id": "5ba7835239958ff",
   "metadata": {
    "collapsed": false,
    "ExecuteTime": {
     "end_time": "2024-06-07T19:45:24.780644700Z",
     "start_time": "2024-06-07T19:45:24.765079300Z"
    }
   },
   "outputs": [],
   "source": [
    "for i, variable_name in enumerate(keys):\n",
    "    globals()[variable_name] = dfs[i]"
   ]
  },
  {
   "cell_type": "code",
   "execution_count": 12,
   "id": "ae79e5da346f4741",
   "metadata": {
    "collapsed": false,
    "ExecuteTime": {
     "end_time": "2024-06-07T19:47:30.032913600Z",
     "start_time": "2024-06-07T19:45:37.307678100Z"
    }
   },
   "outputs": [
    {
     "name": "stderr",
     "output_type": "stream",
     "text": [
      "100%|██████████| 646214/646214 [01:52<00:00, 5756.62it/s]\n"
     ]
    },
    {
     "name": "stdout",
     "output_type": "stream",
     "text": [
      "emotion\n",
      "happiness    171812\n",
      "sadness      117255\n",
      "anger         57236\n",
      "fear          43277\n",
      "surprise      18657\n",
      "disgust       10858\n",
      "Name: count, dtype: int64\n"
     ]
    }
   ],
   "source": [
    "df = data_prep(all_datasets, None)"
   ]
  },
  {
   "cell_type": "code",
   "execution_count": 13,
   "id": "d1443f2cebfc132d",
   "metadata": {
    "collapsed": false,
    "ExecuteTime": {
     "end_time": "2024-06-07T19:47:53.319544500Z",
     "start_time": "2024-06-07T19:47:53.313550900Z"
    }
   },
   "outputs": [
    {
     "data": {
      "text/plain": "((646214,), (646214,))"
     },
     "execution_count": 13,
     "metadata": {},
     "output_type": "execute_result"
    }
   ],
   "source": [
    "feature = 'sentence'\n",
    "X  = all_datasets[feature]\n",
    "y = all_datasets['emotion']\n",
    "(X.shape, y.shape)"
   ]
  },
  {
   "cell_type": "code",
   "execution_count": 14,
   "id": "5f7a7b73bae40651",
   "metadata": {
    "collapsed": false,
    "ExecuteTime": {
     "end_time": "2024-06-07T19:47:54.368198900Z",
     "start_time": "2024-06-07T19:47:54.300720Z"
    }
   },
   "outputs": [],
   "source": [
    "X_train, X_test, y_train, y_test = train_test_split(X,y,test_size=0.2,random_state=42)"
   ]
  },
  {
   "cell_type": "code",
   "execution_count": 15,
   "id": "a3755b17559f5bd1",
   "metadata": {
    "collapsed": false,
    "ExecuteTime": {
     "end_time": "2024-06-07T19:47:55.484791400Z",
     "start_time": "2024-06-07T19:47:55.478273500Z"
    }
   },
   "outputs": [],
   "source": [
    "# Loading models\n",
    "lr = LogisticRegression(max_iter=1000, class_weight='balanced',penalty='l2', C=0.1)\n",
    "nb = MultinomialNB()\n",
    "# Loading vectorizers\n",
    "cv_vect = CountVectorizer()\n",
    "tfidf_vect = TfidfVectorizer(ngram_range=(1, 3),smooth_idf=False)"
   ]
  },
  {
   "cell_type": "code",
   "execution_count": 16,
   "id": "bd5a6bd74f6e89b3",
   "metadata": {
    "collapsed": false,
    "ExecuteTime": {
     "end_time": "2024-06-07T19:47:56.193039100Z",
     "start_time": "2024-06-07T19:47:56.183755900Z"
    }
   },
   "outputs": [],
   "source": [
    "models = [lr, nb]\n",
    "vects = [cv_vect, tfidf_vect]"
   ]
  },
  {
   "cell_type": "code",
   "execution_count": 12,
   "id": "d06f4c023979d24",
   "metadata": {
    "ExecuteTime": {
     "end_time": "2024-03-22T11:02:05.839606Z",
     "start_time": "2024-03-22T10:56:07.329628100Z"
    },
    "collapsed": false
   },
   "outputs": [
    {
     "name": "stdout",
     "output_type": "stream",
     "text": [
      "Logistic Regression with Count Vectorizer\n",
      "F1 score on training set: 0.8137072090860415\n",
      "F1 score on validation set: 0.7979001272093855\n",
      "F1 score on test set: 0.5532366394476277 \t\n",
      "Logistic Regression with Tfidf Vectorizer\n",
      "F1 score on training set: 0.8175747962590142\n",
      "F1 score on validation set: 0.7922066404041194\n",
      "F1 score on test set: 0.5838784323481987 \t\n",
      "Naive Bayes with Count Vectorizer\n",
      "F1 score on training set: 0.8095896510379463\n",
      "F1 score on validation set: 0.7783491207206138\n",
      "F1 score on test set: 0.5216332315811568 \t\n",
      "Naive Bayes with Tfidf Vectorizer\n",
      "F1 score on training set: 0.691843718843427\n",
      "F1 score on validation set: 0.5975544304661733\n",
      "F1 score on test set: 0.3271902727369587 \t\n"
     ]
    }
   ],
   "source": [
    "%%time\n",
    "for model in models:\n",
    "    for vect in vects:\n",
    "        model_name = 'Logistic Regression' if model == lr else 'Naive Bayes'\n",
    "        vectorizer_name = 'Count Vectorizer' if vect == cv_vect else 'Tfidf Vectorizer'\n",
    "        print(f'{model_name} with {vectorizer_name}')\n",
    "        emotion_prediction(df_test,model,vect,X_train,X_test,y_train,y_test,feature)"
   ]
  }
 ],
 "metadata": {
  "kernelspec": {
   "display_name": "Python 3 (ipykernel)",
   "language": "python",
   "name": "python3"
  },
  "language_info": {
   "codemirror_mode": {
    "name": "ipython",
    "version": 3
   },
   "file_extension": ".py",
   "mimetype": "text/x-python",
   "name": "python",
   "nbconvert_exporter": "python",
   "pygments_lexer": "ipython3",
   "version": "3.11.0rc1"
  }
 },
 "nbformat": 4,
 "nbformat_minor": 5
}
