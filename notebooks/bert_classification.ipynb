{
 "cells": [
  {
   "cell_type": "markdown",
   "metadata": {
    "id": "MJvidoTew1ML"
   },
   "source": [
    "# Prepocessing dataset"
   ]
  },
  {
   "cell_type": "code",
   "execution_count": 29,
   "metadata": {
    "id": "xnH9pmq_jO1l",
    "ExecuteTime": {
     "end_time": "2024-06-07T20:03:47.934283500Z",
     "start_time": "2024-06-07T20:03:47.907274300Z"
    }
   },
   "outputs": [],
   "source": [
    "import os\n",
    "import pandas as pd\n",
    "import warnings\n",
    "import matplotlib.pyplot as plt\n",
    "\n",
    "from collections import defaultdict\n",
    "from sklearn.metrics import f1_score\n",
    "from sklearn.model_selection import train_test_split\n",
    "from sklearn.metrics import classification_report\n",
    "from torch import device\n",
    "\n",
    "from transformers import BertTokenizer\n",
    "\n",
    "from src.preprocessor import balancing_multiple_classes\n",
    "from src.bert.bert_functions import *"
   ]
  },
  {
   "cell_type": "code",
   "execution_count": 30,
   "metadata": {
    "ExecuteTime": {
     "end_time": "2024-06-07T20:03:48.537363100Z",
     "start_time": "2024-06-07T20:03:48.507448700Z"
    }
   },
   "outputs": [],
   "source": [
    "warnings.filterwarnings(\"ignore\")\n",
    "pd.set_option('display.max_colwidth',None)"
   ]
  },
  {
   "cell_type": "code",
   "execution_count": 31,
   "outputs": [],
   "source": [
    "data_dir =  os.path.join(os.path.sep.join(os.getcwd().split(os.path.sep)[:-1]), \"data\")\n",
    "models_dir =  os.path.join(os.path.sep.join(os.getcwd().split(os.path.sep)[:-1]), \"models\")"
   ],
   "metadata": {
    "collapsed": false,
    "ExecuteTime": {
     "end_time": "2024-06-07T20:03:49.082382400Z",
     "start_time": "2024-06-07T20:03:49.057482Z"
    }
   }
  },
  {
   "cell_type": "code",
   "execution_count": 32,
   "metadata": {
    "id": "IPKEHEYKVt9p",
    "ExecuteTime": {
     "end_time": "2024-06-07T20:03:50.411159Z",
     "start_time": "2024-06-07T20:03:49.587267Z"
    }
   },
   "outputs": [],
   "source": [
    "df_train = pd.read_csv(os.path.join(data_dir,\"dataset.csv\")).loc[lambda x: x[\"emotion\"] != \"neutral\"]\n",
    "df_test = pd.read_csv(os.path.join(data_dir,\"test_set.csv\"))"
   ]
  },
  {
   "cell_type": "code",
   "execution_count": 27,
   "metadata": {
    "colab": {
     "base_uri": "https://localhost:8080/",
     "height": 363
    },
    "id": "qFGxTPvSxH2M",
    "outputId": "0790ae2a-7efe-4897-817d-8cbc668650c5",
    "ExecuteTime": {
     "end_time": "2024-06-07T20:03:07.471244700Z",
     "start_time": "2024-06-07T20:03:07.436420Z"
    }
   },
   "outputs": [
    {
     "data": {
      "text/plain": "                                                                                                                                   sentence  \\\n0                       I just do not know i feel like i am just way to paranoid i want to trust but its hard been hurt way to many times .   \n1                                                                  I want to be with him so bad that i feel i am being tortured right now .   \n2     I spent most of the day alone and several hours feeling unimportant because we were going to hang out together but nothing happened .   \n3  I am feeling so horny that i will make love to you if you are here and let you shoot in me hoping that my egg and your sperm can unite .   \n4                                                                  I do love feeling all clever when i do understand what they are saying .   \n\n     emotion  \n0       fear  \n1      anger  \n2    sadness  \n3  happiness  \n4  happiness  ",
      "text/html": "<div>\n<style scoped>\n    .dataframe tbody tr th:only-of-type {\n        vertical-align: middle;\n    }\n\n    .dataframe tbody tr th {\n        vertical-align: top;\n    }\n\n    .dataframe thead th {\n        text-align: right;\n    }\n</style>\n<table border=\"1\" class=\"dataframe\">\n  <thead>\n    <tr style=\"text-align: right;\">\n      <th></th>\n      <th>sentence</th>\n      <th>emotion</th>\n    </tr>\n  </thead>\n  <tbody>\n    <tr>\n      <th>0</th>\n      <td>I just do not know i feel like i am just way to paranoid i want to trust but its hard been hurt way to many times .</td>\n      <td>fear</td>\n    </tr>\n    <tr>\n      <th>1</th>\n      <td>I want to be with him so bad that i feel i am being tortured right now .</td>\n      <td>anger</td>\n    </tr>\n    <tr>\n      <th>2</th>\n      <td>I spent most of the day alone and several hours feeling unimportant because we were going to hang out together but nothing happened .</td>\n      <td>sadness</td>\n    </tr>\n    <tr>\n      <th>3</th>\n      <td>I am feeling so horny that i will make love to you if you are here and let you shoot in me hoping that my egg and your sperm can unite .</td>\n      <td>happiness</td>\n    </tr>\n    <tr>\n      <th>4</th>\n      <td>I do love feeling all clever when i do understand what they are saying .</td>\n      <td>happiness</td>\n    </tr>\n  </tbody>\n</table>\n</div>"
     },
     "execution_count": 27,
     "metadata": {},
     "output_type": "execute_result"
    }
   ],
   "source": [
    "df_train.head(5)"
   ]
  },
  {
   "cell_type": "code",
   "execution_count": 6,
   "metadata": {
    "ExecuteTime": {
     "end_time": "2024-06-07T17:51:37.802389700Z",
     "start_time": "2024-06-07T17:51:37.447637400Z"
    }
   },
   "outputs": [
    {
     "data": {
      "text/plain": "emotion\nhappiness    224422\nsadness      143454\nanger         77918\nfear          59695\nsurprise      35989\ndisgust        5550\nName: count, dtype: int64"
     },
     "execution_count": 6,
     "metadata": {},
     "output_type": "execute_result"
    }
   ],
   "source": [
    "# Cleaning\n",
    "df_train.drop_duplicates(keep='first',inplace=True)\n",
    "df_train.dropna(inplace=True)\n",
    "df_train[\"emotion\"].value_counts()"
   ]
  },
  {
   "cell_type": "code",
   "execution_count": 8,
   "metadata": {
    "ExecuteTime": {
     "end_time": "2024-06-07T17:42:33.377906700Z",
     "start_time": "2024-06-07T17:42:33.162242300Z"
    }
   },
   "outputs": [
    {
     "data": {
      "text/plain": "emotion\nhappiness    5550\nsadness      5550\nanger        5550\nfear         5550\nsurprise     5550\ndisgust      5550\nName: count, dtype: int64"
     },
     "execution_count": 8,
     "metadata": {},
     "output_type": "execute_result"
    }
   ],
   "source": [
    "df_balanced = balancing_multiple_classes(df_train,'emotion')\n",
    "df_balanced['emotion'].value_counts()"
   ]
  },
  {
   "cell_type": "code",
   "execution_count": 7,
   "metadata": {
    "ExecuteTime": {
     "end_time": "2024-06-07T17:51:40.251009600Z",
     "start_time": "2024-06-07T17:51:40.202393900Z"
    }
   },
   "outputs": [],
   "source": [
    "emotion_dummies_train = pd.get_dummies(df_train['emotion'])\n",
    "emotion_dummies_train = emotion_dummies_train.astype(int)\n",
    "\n",
    "emotion_dummies_test = pd.get_dummies(df_test['emotion'])\n",
    "emotion_dummies_test = emotion_dummies_test.astype(int)"
   ]
  },
  {
   "cell_type": "code",
   "execution_count": 8,
   "metadata": {
    "colab": {
     "base_uri": "https://localhost:8080/",
     "height": 499
    },
    "id": "ap6Fv9HLxRBm",
    "outputId": "1a5b18af-7d36-4691-a3cf-33ef5321e9f8",
    "ExecuteTime": {
     "end_time": "2024-06-07T17:51:41.566474700Z",
     "start_time": "2024-06-07T17:51:41.536778400Z"
    }
   },
   "outputs": [
    {
     "data": {
      "text/plain": "                                                                     sentence  \\\n0                                       Girls are happy when they get flowers   \n1  His jaw dropped in disbelief when he saw the price of the concert tickets.   \n2                          Sometimes the ugly stench makes me wanna throw up.   \n3                          The foul odor from the garbage bin was disgusting.   \n\n   anger  disgust  fear  happiness  sadness  surprise  \n0      0        0     0          1        0         0  \n1      0        0     0          0        0         1  \n2      0        1     0          0        0         0  \n3      0        1     0          0        0         0  ",
      "text/html": "<div>\n<style scoped>\n    .dataframe tbody tr th:only-of-type {\n        vertical-align: middle;\n    }\n\n    .dataframe tbody tr th {\n        vertical-align: top;\n    }\n\n    .dataframe thead th {\n        text-align: right;\n    }\n</style>\n<table border=\"1\" class=\"dataframe\">\n  <thead>\n    <tr style=\"text-align: right;\">\n      <th></th>\n      <th>sentence</th>\n      <th>anger</th>\n      <th>disgust</th>\n      <th>fear</th>\n      <th>happiness</th>\n      <th>sadness</th>\n      <th>surprise</th>\n    </tr>\n  </thead>\n  <tbody>\n    <tr>\n      <th>0</th>\n      <td>Girls are happy when they get flowers</td>\n      <td>0</td>\n      <td>0</td>\n      <td>0</td>\n      <td>1</td>\n      <td>0</td>\n      <td>0</td>\n    </tr>\n    <tr>\n      <th>1</th>\n      <td>His jaw dropped in disbelief when he saw the price of the concert tickets.</td>\n      <td>0</td>\n      <td>0</td>\n      <td>0</td>\n      <td>0</td>\n      <td>0</td>\n      <td>1</td>\n    </tr>\n    <tr>\n      <th>2</th>\n      <td>Sometimes the ugly stench makes me wanna throw up.</td>\n      <td>0</td>\n      <td>1</td>\n      <td>0</td>\n      <td>0</td>\n      <td>0</td>\n      <td>0</td>\n    </tr>\n    <tr>\n      <th>3</th>\n      <td>The foul odor from the garbage bin was disgusting.</td>\n      <td>0</td>\n      <td>1</td>\n      <td>0</td>\n      <td>0</td>\n      <td>0</td>\n      <td>0</td>\n    </tr>\n  </tbody>\n</table>\n</div>"
     },
     "execution_count": 8,
     "metadata": {},
     "output_type": "execute_result"
    }
   ],
   "source": [
    "df_train_main = pd.concat([df_train['sentence'], emotion_dummies_train], axis=1)\n",
    "df_test_main = pd.concat([df_test['sentence'], emotion_dummies_test], axis=1)\n",
    "\n",
    "df_test_main.head(4)"
   ]
  },
  {
   "cell_type": "code",
   "execution_count": 11,
   "metadata": {
    "id": "CouOCg2d_H1S",
    "ExecuteTime": {
     "end_time": "2024-06-07T17:42:33.548661100Z",
     "start_time": "2024-06-07T17:42:33.463207200Z"
    }
   },
   "outputs": [
    {
     "data": {
      "text/plain": "disgust      0.015\nfear         0.116\nhappiness    0.394\nsadness      0.265\nsurprise     0.063\ndtype: float64"
     },
     "execution_count": 11,
     "metadata": {},
     "output_type": "execute_result"
    }
   ],
   "source": [
    "sample = df_train_main.sample(n = 1000, random_state = 4)\n",
    "columns = sample.columns\n",
    "freq = sample[columns[2:]].sum()/sample.shape[0]\n",
    "freq"
   ]
  },
  {
   "cell_type": "code",
   "execution_count": 12,
   "metadata": {
    "colab": {
     "base_uri": "https://localhost:8080/",
     "height": 204
    },
    "id": "lWpsDK6cXAXQ",
    "outputId": "988475c6-f490-49e6-c51a-df60f4e0641a",
    "ExecuteTime": {
     "end_time": "2024-06-07T17:42:33.620691700Z",
     "start_time": "2024-06-07T17:42:33.502242800Z"
    }
   },
   "outputs": [
    {
     "data": {
      "text/plain": "                                                                                        sentence  \\\n528526                                            Well . . . perhaps you should think about it .   \n126699                                                                Haha if only he had reddit   \n324090                       i feel good and am gaining weight much better than i did with diego   \n482598  i am feeling a bit unsure of myself as i document the beautiful birth of my fourth child   \n502760                                                        i feel so disgusted as i type this   \n\n        anger  disgust  fear  happiness  sadness  surprise  \n528526      1        0     0          0        0         0  \n126699      0        0     0          1        0         0  \n324090      0        0     0          1        0         0  \n482598      0        0     1          0        0         0  \n502760      1        0     0          0        0         0  ",
      "text/html": "<div>\n<style scoped>\n    .dataframe tbody tr th:only-of-type {\n        vertical-align: middle;\n    }\n\n    .dataframe tbody tr th {\n        vertical-align: top;\n    }\n\n    .dataframe thead th {\n        text-align: right;\n    }\n</style>\n<table border=\"1\" class=\"dataframe\">\n  <thead>\n    <tr style=\"text-align: right;\">\n      <th></th>\n      <th>sentence</th>\n      <th>anger</th>\n      <th>disgust</th>\n      <th>fear</th>\n      <th>happiness</th>\n      <th>sadness</th>\n      <th>surprise</th>\n    </tr>\n  </thead>\n  <tbody>\n    <tr>\n      <th>528526</th>\n      <td>Well . . . perhaps you should think about it .</td>\n      <td>1</td>\n      <td>0</td>\n      <td>0</td>\n      <td>0</td>\n      <td>0</td>\n      <td>0</td>\n    </tr>\n    <tr>\n      <th>126699</th>\n      <td>Haha if only he had reddit</td>\n      <td>0</td>\n      <td>0</td>\n      <td>0</td>\n      <td>1</td>\n      <td>0</td>\n      <td>0</td>\n    </tr>\n    <tr>\n      <th>324090</th>\n      <td>i feel good and am gaining weight much better than i did with diego</td>\n      <td>0</td>\n      <td>0</td>\n      <td>0</td>\n      <td>1</td>\n      <td>0</td>\n      <td>0</td>\n    </tr>\n    <tr>\n      <th>482598</th>\n      <td>i am feeling a bit unsure of myself as i document the beautiful birth of my fourth child</td>\n      <td>0</td>\n      <td>0</td>\n      <td>1</td>\n      <td>0</td>\n      <td>0</td>\n      <td>0</td>\n    </tr>\n    <tr>\n      <th>502760</th>\n      <td>i feel so disgusted as i type this</td>\n      <td>1</td>\n      <td>0</td>\n      <td>0</td>\n      <td>0</td>\n      <td>0</td>\n      <td>0</td>\n    </tr>\n  </tbody>\n</table>\n</div>"
     },
     "execution_count": 12,
     "metadata": {},
     "output_type": "execute_result"
    }
   ],
   "source": [
    "sample.head()"
   ]
  },
  {
   "cell_type": "markdown",
   "metadata": {},
   "source": [
    "# BERT Multi-class text classification"
   ]
  },
  {
   "cell_type": "code",
   "execution_count": 33,
   "outputs": [],
   "source": [
    "from src.bert.bert_model import BERTClassification\n",
    "from src.bert.bert_tokenizer import TokenizedDataset"
   ],
   "metadata": {
    "collapsed": false,
    "ExecuteTime": {
     "end_time": "2024-06-07T20:10:12.914694500Z",
     "start_time": "2024-06-07T20:10:12.850891700Z"
    }
   }
  },
  {
   "cell_type": "code",
   "execution_count": 35,
   "metadata": {
    "ExecuteTime": {
     "end_time": "2024-06-07T20:14:41.506879900Z",
     "start_time": "2024-06-07T20:14:41.465428300Z"
    }
   },
   "outputs": [],
   "source": [
    "device: device = torch.device('cuda') if torch.cuda.is_available() else torch.device('cpu')"
   ]
  },
  {
   "cell_type": "code",
   "execution_count": 10,
   "metadata": {
    "ExecuteTime": {
     "end_time": "2024-06-07T17:51:46.319051800Z",
     "start_time": "2024-06-07T17:51:46.223182Z"
    }
   },
   "outputs": [],
   "source": [
    "training_df, validation_df = train_test_split(df_train_main, random_state=77, test_size=0.30, shuffle=True)\n",
    "testing_df = df_test_main.copy()"
   ]
  },
  {
   "cell_type": "code",
   "execution_count": 11,
   "metadata": {
    "ExecuteTime": {
     "end_time": "2024-06-07T17:51:46.911816600Z",
     "start_time": "2024-06-07T17:51:46.908800200Z"
    }
   },
   "outputs": [
    {
     "name": "stdout",
     "output_type": "stream",
     "text": [
      "Train: (382919, 7), Val: (164109, 7), Test: (1436, 7)\n"
     ]
    }
   ],
   "source": [
    "print(f\"Train: {training_df.shape}, Val: {validation_df.shape}, Test: {testing_df.shape}\")"
   ]
  },
  {
   "cell_type": "code",
   "execution_count": 12,
   "metadata": {
    "ExecuteTime": {
     "end_time": "2024-06-07T17:51:47.927785500Z",
     "start_time": "2024-06-07T17:51:47.663158700Z"
    }
   },
   "outputs": [],
   "source": [
    "tokenizer = BertTokenizer.from_pretrained('bert-base-uncased')"
   ]
  },
  {
   "cell_type": "code",
   "execution_count": 13,
   "metadata": {
    "ExecuteTime": {
     "end_time": "2024-06-07T17:51:48.528124600Z",
     "start_time": "2024-06-07T17:51:48.495965900Z"
    }
   },
   "outputs": [
    {
     "name": "stdout",
     "output_type": "stream",
     "text": [
      "original sentence: \n",
      "I woke on saturday feeling a little brighter and was very keen to get outdoors after spending all day friday wallowing in self pity .\n",
      "\n",
      "tokenized sentence: \n",
      "{'input_ids': tensor([[  101,  1045,  8271,  2006,  5095,  3110,  1037,  2210, 16176,  1998,\n",
      "          2001,  2200, 10326,  2000,  2131, 19350,  2044,  5938,  2035,  2154,\n",
      "          5958,  2813, 14138,  1999,  2969, 12063,  1012,   102,     0,     0,\n",
      "             0,     0,     0,     0,     0,     0,     0,     0,     0,     0,\n",
      "             0,     0,     0,     0,     0,     0,     0,     0,     0,     0]]), 'token_type_ids': tensor([[0, 0, 0, 0, 0, 0, 0, 0, 0, 0, 0, 0, 0, 0, 0, 0, 0, 0, 0, 0, 0, 0, 0, 0,\n",
      "         0, 0, 0, 0, 0, 0, 0, 0, 0, 0, 0, 0, 0, 0, 0, 0, 0, 0, 0, 0, 0, 0, 0, 0,\n",
      "         0, 0]]), 'attention_mask': tensor([[1, 1, 1, 1, 1, 1, 1, 1, 1, 1, 1, 1, 1, 1, 1, 1, 1, 1, 1, 1, 1, 1, 1, 1,\n",
      "         1, 1, 1, 1, 0, 0, 0, 0, 0, 0, 0, 0, 0, 0, 0, 0, 0, 0, 0, 0, 0, 0, 0, 0,\n",
      "         0, 0]])}\n"
     ]
    }
   ],
   "source": [
    "# test tokenizer on random sentence\n",
    "test_text = training_df['sentence'].sample().iloc[0]\n",
    "\n",
    "encodings = tokenizer.encode_plus(test_text, \n",
    "                                  add_special_tokens = True,\n",
    "                                  max_length = 50,\n",
    "                                  truncation = True,\n",
    "                                  padding = \"max_length\", \n",
    "                                  return_attention_mask = True, \n",
    "                                  return_tensors = \"pt\")\n",
    "\n",
    "print(f\"original sentence: \\n{test_text}\\n\")\n",
    "print(f\"tokenized sentence: \\n{encodings}\")"
   ]
  },
  {
   "cell_type": "code",
   "execution_count": 14,
   "metadata": {
    "ExecuteTime": {
     "end_time": "2024-06-07T17:51:49.316000900Z",
     "start_time": "2024-06-07T17:51:49.304493400Z"
    }
   },
   "outputs": [
    {
     "data": {
      "text/plain": "['anger', 'disgust', 'fear', 'happiness', 'sadness', 'surprise']"
     },
     "execution_count": 14,
     "metadata": {},
     "output_type": "execute_result"
    }
   ],
   "source": [
    "emotion_list = emotion_dummies_train.columns.tolist()\n",
    "emotion_list"
   ]
  },
  {
   "cell_type": "code",
   "execution_count": 15,
   "metadata": {
    "ExecuteTime": {
     "end_time": "2024-06-07T17:51:50.025263700Z",
     "start_time": "2024-06-07T17:51:49.911369500Z"
    }
   },
   "outputs": [],
   "source": [
    "train_dataset = TokenizedDataset(training_df, tokenizer, MAX_LEN, emotion_list)\n",
    "val_dataset = TokenizedDataset(validation_df, tokenizer, MAX_LEN, emotion_list)\n",
    "test_dataset = TokenizedDataset(testing_df, tokenizer, MAX_LEN, emotion_list)"
   ]
  },
  {
   "cell_type": "code",
   "execution_count": 16,
   "metadata": {
    "ExecuteTime": {
     "end_time": "2024-06-07T17:51:50.536737500Z",
     "start_time": "2024-06-07T17:51:50.499965400Z"
    }
   },
   "outputs": [
    {
     "data": {
      "text/plain": "{'input_ids': tensor([ 101, 3057, 2024, 3407, 2043, 2027, 2131, 4870,  102,    0,    0,    0,\n            0,    0,    0,    0,    0,    0,    0,    0,    0,    0,    0,    0,\n            0,    0,    0,    0,    0,    0,    0,    0,    0,    0,    0,    0,\n            0,    0,    0,    0,    0,    0,    0,    0,    0,    0,    0,    0,\n            0,    0,    0,    0,    0,    0,    0,    0,    0,    0,    0,    0,\n            0,    0,    0,    0,    0,    0,    0,    0,    0,    0,    0,    0,\n            0,    0,    0,    0,    0,    0,    0,    0,    0,    0,    0,    0,\n            0,    0,    0,    0,    0,    0,    0,    0,    0,    0,    0,    0,\n            0,    0,    0,    0,    0,    0,    0,    0,    0,    0,    0,    0,\n            0,    0,    0,    0,    0,    0,    0,    0,    0,    0,    0,    0,\n            0,    0,    0,    0,    0,    0,    0,    0,    0,    0,    0,    0,\n            0,    0,    0,    0,    0,    0,    0,    0,    0,    0,    0,    0,\n            0,    0,    0,    0,    0,    0,    0,    0,    0,    0,    0,    0,\n            0,    0,    0,    0,    0,    0,    0,    0,    0,    0,    0,    0,\n            0,    0,    0,    0,    0,    0,    0,    0,    0,    0,    0,    0,\n            0,    0,    0,    0,    0,    0,    0,    0,    0,    0,    0,    0,\n            0,    0,    0,    0,    0,    0,    0,    0,    0,    0,    0,    0,\n            0,    0,    0,    0,    0,    0,    0,    0,    0,    0,    0,    0,\n            0,    0,    0,    0,    0,    0,    0,    0,    0,    0,    0,    0,\n            0,    0,    0,    0,    0,    0,    0,    0,    0,    0,    0,    0,\n            0,    0,    0,    0,    0,    0,    0,    0,    0,    0,    0,    0,\n            0,    0,    0,    0]),\n 'attention_mask': tensor([1, 1, 1, 1, 1, 1, 1, 1, 1, 0, 0, 0, 0, 0, 0, 0, 0, 0, 0, 0, 0, 0, 0, 0,\n         0, 0, 0, 0, 0, 0, 0, 0, 0, 0, 0, 0, 0, 0, 0, 0, 0, 0, 0, 0, 0, 0, 0, 0,\n         0, 0, 0, 0, 0, 0, 0, 0, 0, 0, 0, 0, 0, 0, 0, 0, 0, 0, 0, 0, 0, 0, 0, 0,\n         0, 0, 0, 0, 0, 0, 0, 0, 0, 0, 0, 0, 0, 0, 0, 0, 0, 0, 0, 0, 0, 0, 0, 0,\n         0, 0, 0, 0, 0, 0, 0, 0, 0, 0, 0, 0, 0, 0, 0, 0, 0, 0, 0, 0, 0, 0, 0, 0,\n         0, 0, 0, 0, 0, 0, 0, 0, 0, 0, 0, 0, 0, 0, 0, 0, 0, 0, 0, 0, 0, 0, 0, 0,\n         0, 0, 0, 0, 0, 0, 0, 0, 0, 0, 0, 0, 0, 0, 0, 0, 0, 0, 0, 0, 0, 0, 0, 0,\n         0, 0, 0, 0, 0, 0, 0, 0, 0, 0, 0, 0, 0, 0, 0, 0, 0, 0, 0, 0, 0, 0, 0, 0,\n         0, 0, 0, 0, 0, 0, 0, 0, 0, 0, 0, 0, 0, 0, 0, 0, 0, 0, 0, 0, 0, 0, 0, 0,\n         0, 0, 0, 0, 0, 0, 0, 0, 0, 0, 0, 0, 0, 0, 0, 0, 0, 0, 0, 0, 0, 0, 0, 0,\n         0, 0, 0, 0, 0, 0, 0, 0, 0, 0, 0, 0, 0, 0, 0, 0]),\n 'token_type_ids': tensor([0, 0, 0, 0, 0, 0, 0, 0, 0, 0, 0, 0, 0, 0, 0, 0, 0, 0, 0, 0, 0, 0, 0, 0,\n         0, 0, 0, 0, 0, 0, 0, 0, 0, 0, 0, 0, 0, 0, 0, 0, 0, 0, 0, 0, 0, 0, 0, 0,\n         0, 0, 0, 0, 0, 0, 0, 0, 0, 0, 0, 0, 0, 0, 0, 0, 0, 0, 0, 0, 0, 0, 0, 0,\n         0, 0, 0, 0, 0, 0, 0, 0, 0, 0, 0, 0, 0, 0, 0, 0, 0, 0, 0, 0, 0, 0, 0, 0,\n         0, 0, 0, 0, 0, 0, 0, 0, 0, 0, 0, 0, 0, 0, 0, 0, 0, 0, 0, 0, 0, 0, 0, 0,\n         0, 0, 0, 0, 0, 0, 0, 0, 0, 0, 0, 0, 0, 0, 0, 0, 0, 0, 0, 0, 0, 0, 0, 0,\n         0, 0, 0, 0, 0, 0, 0, 0, 0, 0, 0, 0, 0, 0, 0, 0, 0, 0, 0, 0, 0, 0, 0, 0,\n         0, 0, 0, 0, 0, 0, 0, 0, 0, 0, 0, 0, 0, 0, 0, 0, 0, 0, 0, 0, 0, 0, 0, 0,\n         0, 0, 0, 0, 0, 0, 0, 0, 0, 0, 0, 0, 0, 0, 0, 0, 0, 0, 0, 0, 0, 0, 0, 0,\n         0, 0, 0, 0, 0, 0, 0, 0, 0, 0, 0, 0, 0, 0, 0, 0, 0, 0, 0, 0, 0, 0, 0, 0,\n         0, 0, 0, 0, 0, 0, 0, 0, 0, 0, 0, 0, 0, 0, 0, 0]),\n 'emotion': tensor([0., 0., 0., 1., 0., 0.]),\n 'sentence': 'Girls are happy when they get flowers'}"
     },
     "execution_count": 16,
     "metadata": {},
     "output_type": "execute_result"
    }
   ],
   "source": [
    "next(iter(test_dataset))"
   ]
  },
  {
   "cell_type": "code",
   "execution_count": 17,
   "metadata": {
    "ExecuteTime": {
     "end_time": "2024-06-07T17:51:51.292030800Z",
     "start_time": "2024-06-07T17:51:51.276396Z"
    }
   },
   "outputs": [],
   "source": [
    "# Data loaders\n",
    "train_data_loader = torch.utils.data.DataLoader(train_dataset, \n",
    "    batch_size=TRAIN_BATCH_SIZE,\n",
    "    shuffle=True,\n",
    "    num_workers=0\n",
    ")\n",
    "\n",
    "val_data_loader = torch.utils.data.DataLoader(val_dataset, \n",
    "    batch_size=VALID_BATCH_SIZE,\n",
    "    shuffle=False,\n",
    "    num_workers=0\n",
    ")\n",
    "\n",
    "test_data_loader = torch.utils.data.DataLoader(test_dataset, \n",
    "    batch_size=TEST_BATCH_SIZE,\n",
    "    shuffle=False,\n",
    "    num_workers=0\n",
    ")"
   ]
  },
  {
   "cell_type": "code",
   "execution_count": 18,
   "metadata": {
    "ExecuteTime": {
     "end_time": "2024-06-07T17:51:52.755518700Z",
     "start_time": "2024-06-07T17:51:52.006477Z"
    }
   },
   "outputs": [
    {
     "data": {
      "text/plain": "BERTClassification(\n  (bert_model): BertModel(\n    (embeddings): BertEmbeddings(\n      (word_embeddings): Embedding(30522, 768, padding_idx=0)\n      (position_embeddings): Embedding(512, 768)\n      (token_type_embeddings): Embedding(2, 768)\n      (LayerNorm): LayerNorm((768,), eps=1e-12, elementwise_affine=True)\n      (dropout): Dropout(p=0.1, inplace=False)\n    )\n    (encoder): BertEncoder(\n      (layer): ModuleList(\n        (0-11): 12 x BertLayer(\n          (attention): BertAttention(\n            (self): BertSdpaSelfAttention(\n              (query): Linear(in_features=768, out_features=768, bias=True)\n              (key): Linear(in_features=768, out_features=768, bias=True)\n              (value): Linear(in_features=768, out_features=768, bias=True)\n              (dropout): Dropout(p=0.1, inplace=False)\n            )\n            (output): BertSelfOutput(\n              (dense): Linear(in_features=768, out_features=768, bias=True)\n              (LayerNorm): LayerNorm((768,), eps=1e-12, elementwise_affine=True)\n              (dropout): Dropout(p=0.1, inplace=False)\n            )\n          )\n          (intermediate): BertIntermediate(\n            (dense): Linear(in_features=768, out_features=3072, bias=True)\n            (intermediate_act_fn): GELUActivation()\n          )\n          (output): BertOutput(\n            (dense): Linear(in_features=3072, out_features=768, bias=True)\n            (LayerNorm): LayerNorm((768,), eps=1e-12, elementwise_affine=True)\n            (dropout): Dropout(p=0.1, inplace=False)\n          )\n        )\n      )\n    )\n    (pooler): BertPooler(\n      (dense): Linear(in_features=768, out_features=768, bias=True)\n      (activation): Tanh()\n    )\n  )\n  (dropout): Dropout(p=0.3, inplace=False)\n  (linear): Linear(in_features=768, out_features=6, bias=True)\n)"
     },
     "execution_count": 18,
     "metadata": {},
     "output_type": "execute_result"
    }
   ],
   "source": [
    "num_labels = len(emotion_list)\n",
    "model = BERTClassification(num_labels=num_labels)\n",
    "model.to(device)"
   ]
  },
  {
   "cell_type": "markdown",
   "metadata": {},
   "source": [
    "# Model Training"
   ]
  },
  {
   "cell_type": "code",
   "execution_count": null,
   "metadata": {
    "scrolled": true
   },
   "outputs": [
    {
     "name": "stdout",
     "output_type": "stream",
     "text": [
      "Epoch 1/5\n",
      "Training:\n"
     ]
    },
    {
     "data": {
      "application/vnd.jupyter.widget-view+json": {
       "model_id": "a9c636158c8040fe84a7d4f90bc2b4ac",
       "version_major": 2,
       "version_minor": 0
      },
      "text/plain": [
       "  0%|          | 0/11967 [00:00<?, ?it/s]"
      ]
     },
     "metadata": {},
     "output_type": "display_data"
    },
    {
     "name": "stdout",
     "output_type": "stream",
     "text": [
      "Evaluating:\n"
     ]
    },
    {
     "data": {
      "application/vnd.jupyter.widget-view+json": {
       "model_id": "cfdb3b6d9e8d4d63a3a137f996e13a9d",
       "version_major": 2,
       "version_minor": 0
      },
      "text/plain": [
       "  0%|          | 0/5129 [00:00<?, ?it/s]"
      ]
     },
     "metadata": {},
     "output_type": "display_data"
    },
    {
     "name": "stdout",
     "output_type": "stream",
     "text": [
      "train_loss=0.0639, val_loss=0.0427 train_acc=0.9254, val_acc=0.9461\n",
      "Epoch 2/5\n",
      "Training:\n"
     ]
    },
    {
     "data": {
      "application/vnd.jupyter.widget-view+json": {
       "model_id": "c596c5ecabe14f6486b093102274b5d9",
       "version_major": 2,
       "version_minor": 0
      },
      "text/plain": [
       "  0%|          | 0/11967 [00:00<?, ?it/s]"
      ]
     },
     "metadata": {},
     "output_type": "display_data"
    }
   ],
   "source": [
    "# Initialize a dictionary to store training and validation history\n",
    "history = defaultdict(list)\n",
    "best_accuracy = 0\n",
    "\n",
    "# Loop over all epochs\n",
    "for epoch in range(1, EPOCHS+1):\n",
    "    print(f'Epoch {epoch}/{EPOCHS}')\n",
    "\n",
    "    # Train the model\n",
    "    model, train_acc, train_loss = train_model(train_data_loader, model, optimizer, loss_fn, device)\n",
    "    val_acc, val_loss = eval_model(val_data_loader, model, optimizer, loss_fn, device)\n",
    "\n",
    "    print(f'train_loss={train_loss:.4f}, val_loss={val_loss:.4f} train_acc={train_acc:.4f}, val_acc={val_acc:.4f}')\n",
    "\n",
    "    history['train_acc'].append(train_acc)\n",
    "    history['train_loss'].append(train_loss)\n",
    "    history['val_acc'].append(val_acc)\n",
    "    history['val_loss'].append(val_loss)\n",
    "    \n",
    "    # save the best model\n",
    "    if val_acc > best_accuracy:\n",
    "        torch.save(model.state_dict(), os.path.join(models_dir, \"bert_model.bin\"))\n",
    "        best_accuracy = val_acc"
   ]
  },
  {
   "cell_type": "code",
   "execution_count": 33,
   "metadata": {},
   "outputs": [
    {
     "data": {
      "image/png": "[encoded data removed]",
      "text/plain": [
       "<Figure size 800x500 with 1 Axes>"
      ]
     },
     "metadata": {},
     "output_type": "display_data"
    }
   ],
   "source": [
    "plt.rcParams[\"figure.figsize\"] = (8,5)\n",
    "plt.plot(history['train_acc'], label='train accuracy')\n",
    "plt.plot(history['val_acc'], label='validation accuracy')\n",
    "plt.title('Training history')\n",
    "plt.ylabel('Accuracy')\n",
    "plt.xlabel('Epoch')\n",
    "plt.legend()\n",
    "plt.ylim([0, 1])\n",
    "plt.grid()"
   ]
  },
  {
   "cell_type": "code",
   "execution_count": 35,
   "metadata": {},
   "outputs": [],
   "source": [
    "sentences, predictions, prediction_probs, emotion_values = get_predictions(model, test_data_loader, device)"
   ]
  },
  {
   "cell_type": "code",
   "execution_count": null,
   "metadata": {},
   "outputs": [],
   "source": [
    "print(classification_report(emotion_values, predictions, target_names=emotion_list))"
   ]
  },
  {
   "cell_type": "code",
   "execution_count": 40,
   "metadata": {},
   "outputs": [
    {
     "name": "stdout",
     "output_type": "stream",
     "text": [
      "F1 score on test set: 0.25715768512540516\n"
     ]
    }
   ],
   "source": [
    "emotion_mapping = {'anger': 0, 'disgust': 1, 'fear': 2, 'happiness': 3, 'sadness': 4, 'surprise': 5}\n",
    "\n",
    "predicted_emotions = [emotion for label in predictions for emotion, encoded_label in emotion_mapping.items() if label == encoded_label]\n",
    "\n",
    "print('F1 score on test set: {}'.format(f1_score(df_test['emotion'], predicted_emotions, average='weighted')))"
   ]
  }
 ],
 "metadata": {
  "colab": {
   "collapsed_sections": [],
   "machine_shape": "hm",
   "name": "data-preparation.ipynb",
   "provenance": []
  },
  "kernelspec": {
   "display_name": "Python 3 (ipykernel)",
   "language": "python",
   "name": "python3"
  },
  "language_info": {
   "codemirror_mode": {
    "name": "ipython",
    "version": 3
   },
   "file_extension": ".py",
   "mimetype": "text/x-python",
   "name": "python",
   "nbconvert_exporter": "python",
   "pygments_lexer": "ipython3",
   "version": "3.11.0rc1"
  }
 },
 "nbformat": 4,
 "nbformat_minor": 4
}
