{
 "cells": [
  {
   "cell_type": "code",
   "execution_count": 1,
   "id": "0b064987-cf5e-471c-916b-5922fe6d2b95",
   "metadata": {},
   "outputs": [
    {
     "ename": "ModuleNotFoundError",
     "evalue": "No module named 'preprocessor'",
     "output_type": "error",
     "traceback": [
      "\u001b[0;31m---------------------------------------------------------------------------\u001b[0m",
      "\u001b[0;31mModuleNotFoundError\u001b[0m                       Traceback (most recent call last)",
      "Cell \u001b[0;32mIn[1], line 3\u001b[0m\n\u001b[1;32m      1\u001b[0m \u001b[38;5;28;01mimport\u001b[39;00m \u001b[38;5;21;01msys\u001b[39;00m\n\u001b[1;32m      2\u001b[0m sys\u001b[38;5;241m.\u001b[39mpath\u001b[38;5;241m.\u001b[39mappend(\u001b[38;5;124m'\u001b[39m\u001b[38;5;124m../emo_multiclass_Simona\u001b[39m\u001b[38;5;124m'\u001b[39m)\n\u001b[0;32m----> 3\u001b[0m \u001b[38;5;28;01mfrom\u001b[39;00m \u001b[38;5;21;01mpreprocessor\u001b[39;00m \u001b[38;5;28;01mimport\u001b[39;00m data_reader, clean_string, data_prep\n",
      "\u001b[0;31mModuleNotFoundError\u001b[0m: No module named 'preprocessor'"
     ]
    }
   ],
   "source": [
    "import sys\n",
    "sys.path.append('../emo_multiclass_Simona')\n",
    "from preprocessor import data_reader, clean_string, data_prep"
   ]
  },
  {
   "cell_type": "code",
   "execution_count": 6,
   "id": "initial_id",
   "metadata": {
    "ExecuteTime": {
     "end_time": "2024-03-22T13:57:23.849945Z",
     "start_time": "2024-03-22T13:57:23.834305800Z"
    }
   },
   "outputs": [
    {
     "ename": "ModuleNotFoundError",
     "evalue": "No module named 'preprocessor'",
     "output_type": "error",
     "traceback": [
      "\u001b[0;31m---------------------------------------------------------------------------\u001b[0m",
      "\u001b[0;31mModuleNotFoundError\u001b[0m                       Traceback (most recent call last)",
      "Cell \u001b[0;32mIn[6], line 4\u001b[0m\n\u001b[1;32m      2\u001b[0m \u001b[38;5;28;01mimport\u001b[39;00m \u001b[38;5;21;01mpandas\u001b[39;00m \u001b[38;5;28;01mas\u001b[39;00m \u001b[38;5;21;01mpd\u001b[39;00m\n\u001b[1;32m      3\u001b[0m \u001b[38;5;28;01mfrom\u001b[39;00m \u001b[38;5;21;01mtqdm\u001b[39;00m \u001b[38;5;28;01mimport\u001b[39;00m tqdm\n\u001b[0;32m----> 4\u001b[0m \u001b[38;5;28;01mfrom\u001b[39;00m \u001b[38;5;21;01mpreprocessor\u001b[39;00m \u001b[38;5;28;01mimport\u001b[39;00m data_reader, clean_string\n\u001b[1;32m      5\u001b[0m \u001b[38;5;28;01mfrom\u001b[39;00m \u001b[38;5;21;01mmachine_learning\u001b[39;00m \u001b[38;5;28;01mimport\u001b[39;00m sentiment_prediction\n\u001b[1;32m      7\u001b[0m \u001b[38;5;66;03m# machine learning packages\u001b[39;00m\n",
      "\u001b[0;31mModuleNotFoundError\u001b[0m: No module named 'preprocessor'"
     ]
    }
   ],
   "source": [
    "import sys\n",
    "import pandas as pd\n",
    "from tqdm import tqdm\n",
    "from preprocessor import data_reader, clean_string\n",
    "from machine_learning import sentiment_prediction\n",
    "\n",
    "# machine learning packages\n",
    "from sklearn.naive_bayes import MultinomialNB\n",
    "from sklearn.feature_extraction.text import CountVectorizer\n",
    "from sklearn.metrics import classification_report,f1_score\n",
    "from sklearn.feature_extraction.text import TfidfVectorizer\n",
    "from sklearn.linear_model import LogisticRegression\n",
    "from sklearn.model_selection import train_test_split\n",
    "from sklearn.metrics import classification_report"
   ]
  },
  {
   "cell_type": "code",
   "execution_count": 2,
   "id": "f9d89a451912a0cf",
   "metadata": {
    "ExecuteTime": {
     "end_time": "2024-03-22T13:55:45.561000900Z",
     "start_time": "2024-03-22T13:55:45.549990200Z"
    },
    "collapsed": false,
    "jupyter": {
     "outputs_hidden": false
    }
   },
   "outputs": [],
   "source": [
    "df_test = pd.read_csv('group_test.csv')\n",
    "y_true = pd.read_csv('all_labels.csv')"
   ]
  },
  {
   "cell_type": "code",
   "execution_count": 11,
   "id": "a2051eb7ab5e21d4",
   "metadata": {
    "ExecuteTime": {
     "end_time": "2024-03-22T13:59:47.291923200Z",
     "start_time": "2024-03-22T13:59:43.800983100Z"
    },
    "collapsed": false,
    "jupyter": {
     "outputs_hidden": false
    }
   },
   "outputs": [
    {
     "name": "stdout",
     "output_type": "stream",
     "text": [
      "all_datasets loaded!\n",
      "all_datasets_evenly_distributed loaded!\n",
      "all_datasets_stem_no_stopwords loaded!\n",
      "all_datasets_without_reddit loaded!\n",
      "all_datasets_without_reddit_evenly_distributed loaded!\n",
      "all_datasets_without_reddit_evenly_distributed_stem_no_stopwords loaded!\n",
      "all_datasets_without_reddit_stem_no_stopwords loaded!\n"
     ]
    }
   ],
   "source": [
    "tqdm.pandas()\n",
    "pd.set_option('display.max_colwidth',None)\n",
    "dfs, keys = data_reader('processed_data')\n",
    "tqdm.pandas()"
   ]
  },
  {
   "cell_type": "code",
   "execution_count": 12,
   "id": "5ba7835239958ff",
   "metadata": {
    "ExecuteTime": {
     "end_time": "2024-03-22T13:59:48.226908300Z",
     "start_time": "2024-03-22T13:59:48.215401Z"
    },
    "collapsed": false,
    "jupyter": {
     "outputs_hidden": false
    }
   },
   "outputs": [],
   "source": [
    "for i, variable_name in enumerate(keys):\n",
    "    globals()[variable_name] = dfs[i]"
   ]
  },
  {
   "cell_type": "code",
   "execution_count": null,
   "id": "ae79e5da346f4741",
   "metadata": {
    "ExecuteTime": {
     "start_time": "2024-03-22T13:59:49.469999800Z"
    },
    "collapsed": false,
    "is_executing": true,
    "jupyter": {
     "outputs_hidden": false
    }
   },
   "outputs": [
    {
     "name": "stderr",
     "output_type": "stream",
     "text": [
      "  0%|          | 1828/646214 [12:47<79:13:46,  2.26it/s]"
     ]
    }
   ],
   "source": [
    "all_datasets['sentence'] = all_datasets['sentence'].progress_apply(clean_string)\n",
    "all_datasets = all_datasets[all_datasets['sentence'] != '']\n",
    "all_datasets['emotion'].replace({'scared': 'fear'}, inplace=True)"
   ]
  },
  {
   "cell_type": "code",
   "execution_count": 8,
   "id": "2d15b1654edcdc42",
   "metadata": {
    "ExecuteTime": {
     "end_time": "2024-03-22T10:23:14.629166200Z",
     "start_time": "2024-03-22T10:23:14.597753Z"
    },
    "collapsed": false,
    "jupyter": {
     "outputs_hidden": false
    }
   },
   "outputs": [
    {
     "data": {
      "text/plain": [
       "emotion\n",
       "happiness    171812\n",
       "sadness      117255\n",
       "anger         57236\n",
       "fear          43277\n",
       "surprise      18657\n",
       "disgust       10858\n",
       "Name: count, dtype: int64"
      ]
     },
     "execution_count": 8,
     "metadata": {},
     "output_type": "execute_result"
    }
   ],
   "source": [
    "all_datasets['emotion'].value_counts()"
   ]
  },
  {
   "cell_type": "code",
   "execution_count": 10,
   "id": "d1443f2cebfc132d",
   "metadata": {
    "ExecuteTime": {
     "end_time": "2024-03-22T10:23:18.676418700Z",
     "start_time": "2024-03-22T10:23:18.660390900Z"
    },
    "collapsed": false,
    "jupyter": {
     "outputs_hidden": false
    }
   },
   "outputs": [
    {
     "data": {
      "text/plain": [
       "((419095,), (419095,))"
      ]
     },
     "execution_count": 10,
     "metadata": {},
     "output_type": "execute_result"
    }
   ],
   "source": [
    "feature = 'sentence'\n",
    "X  = all_datasets[feature]\n",
    "y = all_datasets['emotion']\n",
    "(X.shape, y.shape)"
   ]
  },
  {
   "cell_type": "code",
   "execution_count": 11,
   "id": "5f7a7b73bae40651",
   "metadata": {
    "ExecuteTime": {
     "end_time": "2024-03-22T10:23:19.432070300Z",
     "start_time": "2024-03-22T10:23:19.381769100Z"
    },
    "collapsed": false,
    "jupyter": {
     "outputs_hidden": false
    }
   },
   "outputs": [],
   "source": [
    "X_train, X_test, y_train, y_test = train_test_split(X,y,test_size=0.2,random_state=42)"
   ]
  },
  {
   "cell_type": "code",
   "execution_count": 12,
   "id": "a3755b17559f5bd1",
   "metadata": {
    "ExecuteTime": {
     "end_time": "2024-03-22T10:23:20.464722300Z",
     "start_time": "2024-03-22T10:23:20.454925500Z"
    },
    "collapsed": false,
    "jupyter": {
     "outputs_hidden": false
    }
   },
   "outputs": [],
   "source": [
    "# Loading model\n",
    "lr = LogisticRegression(max_iter=1000, class_weight='balanced',penalty='l2', C=0.1)\n",
    "nb = MultinomialNB()\n",
    "cv_vect = CountVectorizer()\n",
    "tfidf_vect = TfidfVectorizer(ngram_range=(1, 3),smooth_idf=False)"
   ]
  },
  {
   "cell_type": "code",
   "execution_count": 37,
   "id": "bd5a6bd74f6e89b3",
   "metadata": {
    "ExecuteTime": {
     "end_time": "2024-03-22T10:56:06.488264200Z",
     "start_time": "2024-03-22T10:56:06.468125600Z"
    },
    "collapsed": false,
    "jupyter": {
     "outputs_hidden": false
    }
   },
   "outputs": [],
   "source": [
    "models = [lr, nb]\n",
    "vects = [cv_vect, tfidf_vect]"
   ]
  },
  {
   "cell_type": "code",
   "execution_count": 38,
   "id": "d06f4c023979d24",
   "metadata": {
    "ExecuteTime": {
     "end_time": "2024-03-22T11:02:05.839606Z",
     "start_time": "2024-03-22T10:56:07.329628100Z"
    },
    "collapsed": false,
    "jupyter": {
     "outputs_hidden": false
    }
   },
   "outputs": [
    {
     "name": "stdout",
     "output_type": "stream",
     "text": [
      "Logistic Regression with Count Vectorizer\n",
      "F1 score on training set: 0.9014369694944085\n",
      "F1 score on validation set: 0.8922509368933864\n",
      "F1 score on test set: 0.5829651385227583 \t\n",
      "Logistic Regression with Tfidf Vectorizer\n",
      "F1 score on training set: 0.9057676051942629\n",
      "F1 score on validation set: 0.8922415559627652\n",
      "F1 score on test set: 0.6447674474557239 \t\n",
      "Naive Bayes with Count Vectorizer\n",
      "F1 score on training set: 0.8955513034698195\n",
      "F1 score on validation set: 0.8634240760665469\n",
      "F1 score on test set: 0.6153949740159402 \t\n",
      "Naive Bayes with Tfidf Vectorizer\n",
      "F1 score on training set: 0.7710438671764043\n",
      "F1 score on validation set: 0.6770232905517669\n",
      "F1 score on test set: 0.37193795019961734 \t\n"
     ]
    }
   ],
   "source": [
    "for model in models:\n",
    "    for vect in vects:\n",
    "        model_name = 'Logistic Regression' if model == lr else 'Naive Bayes'\n",
    "        vectorizer_name = 'Count Vectorizer' if vect == cv_vect else 'Tfidf Vectorizer'\n",
    "        print(f'{model_name} with {vectorizer_name}')\n",
    "        sentiment_prediction(model, vect, X_train, X_test, y_train, y_test)"
   ]
  }
 ],
 "metadata": {
  "kernelspec": {
   "display_name": "Python 3 (ipykernel)",
   "language": "python",
   "name": "python3"
  },
  "language_info": {
   "codemirror_mode": {
    "name": "ipython",
    "version": 3
   },
   "file_extension": ".py",
   "mimetype": "text/x-python",
   "name": "python",
   "nbconvert_exporter": "python",
   "pygments_lexer": "ipython3",
   "version": "3.11.0rc1"
  }
 },
 "nbformat": 4,
 "nbformat_minor": 5
}
