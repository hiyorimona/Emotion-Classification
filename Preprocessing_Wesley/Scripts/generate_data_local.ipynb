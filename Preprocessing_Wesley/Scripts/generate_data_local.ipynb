{
 "cells": [
  {
   "cell_type": "code",
   "execution_count": 5,
   "metadata": {},
   "outputs": [
    {
     "name": "stderr",
     "output_type": "stream",
     "text": [
      "The attention mask and the pad token id were not set. As a consequence, you may observe unexpected behavior. Please pass your input's `attention_mask` to obtain reliable results.\n",
      "Setting `pad_token_id` to `eos_token_id`:50256 for open-end generation.\n"
     ]
    },
    {
     "name": "stdout",
     "output_type": "stream",
     "text": [
      "You are an assistant skilled in generating sentences that express specific emotion, but the sentence can't include the name of the emotion. Generate a sentence that expresses frustration.\n",
      "\n",
      "If you want to generate an angry sentence, you can use the following syntax:\n",
      "\n",
      "\n",
      "<a href=\"javascript:void(0)\" target=\"_blank\"> <img src=\"https://www.reddit.com/r/aww/comments/5q3q7q/i_have_a_problem_with_this_sentence_and_you_want_to_generate_an_angry_speech_that_expresses_the_pain_of_your_heart/\" alt=\"I have a problem with this sentence\" width=\"100%\" height=\"200\" />\n",
      "... You can also use this syntax to create a new sentence:\n"
     ]
    }
   ],
   "source": [
    "from transformers import GPT2LMHeadModel, GPT2Tokenizer\n",
    "\n",
    "# Load pre-trained model and tokenizer\n",
    "tokenizer = GPT2Tokenizer.from_pretrained(\"gpt2\")\n",
    "model = GPT2LMHeadModel.from_pretrained(\"gpt2\")\n",
    "\n",
    "# Encode input context and generate text\n",
    "input_text = \"You are an assistant skilled in generating sentences that express specific emotion, but the sentence can't include the name of the emotion. Generate a sentence that expresses frustration.\"\n",
    "input_ids = tokenizer.encode(input_text, return_tensors='pt')\n",
    "output = model.generate(input_ids, max_length=500, num_beams=5, no_repeat_ngram_size=2, early_stopping=True)\n",
    "\n",
    "# Decode and print the generated text\n",
    "print(tokenizer.decode(output[0], skip_special_tokens=True))\n"
   ]
  },
  {
   "cell_type": "code",
   "execution_count": 2,
   "metadata": {},
   "outputs": [
    {
     "name": "stderr",
     "output_type": "stream",
     "text": [
      "The attention mask and the pad token id were not set. As a consequence, you may observe unexpected behavior. Please pass your input's `attention_mask` to obtain reliable results.\n",
      "Setting `pad_token_id` to `eos_token_id`:50256 for open-end generation.\n"
     ]
    },
    {
     "name": "stdout",
     "output_type": "stream",
     "text": [
      "You are an assistant skilled in generating sentences that express specific emotion, but the sentence can't include the name of the emotion. Generate a sentence that expresses frustration.\n",
      "\n",
      "**Step 1:**\n",
      "\n",
      "**Step 2:**\n",
      "\n",
      "**\n"
     ]
    }
   ],
   "source": [
    "from transformers import AutoTokenizer, AutoModelForCausalLM\n",
    "\n",
    "tokenizer = AutoTokenizer.from_pretrained(\"EleutherAI/gpt-neo-2.7B\")\n",
    "model = AutoModelForCausalLM.from_pretrained(\"EleutherAI/gpt-neo-2.7B\")\n",
    "\n",
    "input_text = \"You are an assistant skilled in generating sentences that express specific emotion, but the sentence can't include the name of the emotion. Generate a sentence that expresses frustration.\"\n",
    "input_ids = tokenizer.encode(input_text, return_tensors='pt')\n",
    "output = model.generate(input_ids, max_length=50)\n",
    "\n",
    "print(tokenizer.decode(output[0], skip_special_tokens=True))\n"
   ]
  },
  {
   "cell_type": "code",
   "execution_count": 6,
   "metadata": {},
   "outputs": [
    {
     "name": "stderr",
     "output_type": "stream",
     "text": [
      "c:\\Users\\wesle\\anaconda3\\envs\\bert_nlp\\Lib\\site-packages\\transformers\\generation\\configuration_utils.py:492: UserWarning: `do_sample` is set to `False`. However, `temperature` is set to `0.9` -- this flag is only used in sample-based generation modes. You should set `do_sample=True` or unset `temperature`.\n",
      "  warnings.warn(\n",
      "c:\\Users\\wesle\\anaconda3\\envs\\bert_nlp\\Lib\\site-packages\\transformers\\generation\\configuration_utils.py:497: UserWarning: `do_sample` is set to `False`. However, `top_p` is set to `0.92` -- this flag is only used in sample-based generation modes. You should set `do_sample=True` or unset `top_p`.\n",
      "  warnings.warn(\n",
      "The attention mask and the pad token id were not set. As a consequence, you may observe unexpected behavior. Please pass your input's `attention_mask` to obtain reliable results.\n",
      "Setting `pad_token_id` to `eos_token_id`:50256 for open-end generation.\n"
     ]
    },
    {
     "name": "stdout",
     "output_type": "stream",
     "text": [
      "Generate a sentence that expresses disgust.\n",
      "\n",
      "**1.** _I am disgusted with you._\n",
      "\n",
      "**2.** _I am disgusted with you._\n",
      "\n",
      "**3.** _I am disgusted with you._\n",
      "\n",
      "**\n"
     ]
    }
   ],
   "source": [
    "input_text = \"Generate a sentence that expresses disgust.\"\n",
    "input_ids = tokenizer.encode(input_text, return_tensors='pt')\n",
    "output = model.generate(input_ids, max_length=50, temperature=0.9, top_p=0.92)\n",
    "\n",
    "\n",
    "print(tokenizer.decode(output[0], skip_special_tokens=True))\n"
   ]
  }
 ],
 "metadata": {
  "kernelspec": {
   "display_name": "bert_nlp",
   "language": "python",
   "name": "python3"
  },
  "language_info": {
   "codemirror_mode": {
    "name": "ipython",
    "version": 3
   },
   "file_extension": ".py",
   "mimetype": "text/x-python",
   "name": "python",
   "nbconvert_exporter": "python",
   "pygments_lexer": "ipython3",
   "version": "3.12.2"
  }
 },
 "nbformat": 4,
 "nbformat_minor": 2
}
