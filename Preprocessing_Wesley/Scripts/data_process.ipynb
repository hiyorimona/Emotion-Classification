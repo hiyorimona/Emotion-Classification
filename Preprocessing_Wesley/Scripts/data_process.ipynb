{
 "cells": [
  {
   "cell_type": "code",
   "execution_count": 1,
   "metadata": {},
   "outputs": [
    {
     "name": "stderr",
     "output_type": "stream",
     "text": [
      "[nltk_data] Downloading package stopwords to\n",
      "[nltk_data]     C:\\Users\\wesle\\AppData\\Roaming\\nltk_data...\n",
      "[nltk_data]   Package stopwords is already up-to-date!\n"
     ]
    }
   ],
   "source": [
    "import pandas as pd\n",
    "import numpy as np\n",
    "\n",
    "from config import Config\n",
    "\n",
    "from affective_text import prepare_affective_text\n",
    "from CARER import load_carer_data\n",
    "from daily_dialog import load_daily_dialog_data\n",
    "from emotion_detection_master import load_emotion_detection_master_data\n",
    "from goemotions import load_goemotion_data\n",
    "from fairy_tails import load_fairy_tail_data\n",
    "from meld_master import load_meld_master_data\n",
    "from ChatGPT import load_gpt_data\n",
    "from Survivor import load_survivor_data\n",
    "from Functions.pre_process import extract_sentiment_nltk, remove_stopwords, apply_stemming, nltk_pos_tag, spacy_ner_tag\n",
    "from tqdm import tqdm\n",
    "tqdm.pandas()"
   ]
  },
  {
   "cell_type": "code",
   "execution_count": 2,
   "metadata": {},
   "outputs": [],
   "source": [
    "final_dataset_name = \"tes1.csv\""
   ]
  },
  {
   "cell_type": "code",
   "execution_count": 3,
   "metadata": {},
   "outputs": [],
   "source": [
    "affectivetext = Config.affectivetext\n",
    "carer = Config.carer\n",
    "chatgpt_generated = Config.chatgpt_generated\n",
    "daily_dialog = Config.daily_dialog\n",
    "emotion_detection_master = Config.emotion_detection_master\n",
    "fairy_tails = Config.fairy_tails\n",
    "goeomotions = Config.goeomotions\n",
    "meld_masters = Config.meld_masters\n",
    "survivor = Config.survivor\n",
    "\n",
    "emotion_column_name = Config.emotion_colm_name\n",
    "happiness_other = Config.happiness_other\n",
    "extract_sentiment = Config.extract_sentiment\n",
    "get_positive = Config.get_positive\n",
    "get_highest = Config.get_highest\n",
    "\n",
    "sentiment_colmn_name = Config.sentiment_colmn_name\n",
    "sentiment_library = Config.sentiment_library\n",
    "keep_only_compound = Config.keep_only_compound\n",
    "remove_stopword = Config.remove_stopwords\n",
    "stemmer = Config.stemmer\n",
    "\n",
    "NER_extraction = Config.NER_extraction\n",
    "NER_colmn_name = Config.NER_colmn_name\n",
    "\n",
    "POS_extraction = Config.POS_extraction\n",
    "POS_colmn_name = Config.POS_colmn_name"
   ]
  },
  {
   "cell_type": "code",
   "execution_count": 4,
   "metadata": {},
   "outputs": [],
   "source": [
    "final_df = pd.DataFrame()\n",
    "\n",
    "if affectivetext:\n",
    "    affective_df = prepare_affective_text()\n",
    "    final_df = pd.concat([final_df, affective_df], ignore_index=True)\n",
    "\n",
    "if carer:\n",
    "    carer_df = load_carer_data()\n",
    "    final_df = pd.concat([final_df, carer_df], ignore_index=True)\n",
    "\n",
    "if daily_dialog:\n",
    "    daily_dialog_df = load_daily_dialog_data()\n",
    "    final_df = pd.concat([final_df, daily_dialog_df], ignore_index=True)\n",
    "if emotion_detection_master: \n",
    "    emotion_detection_master_df = load_emotion_detection_master_data()\n",
    "    final_df = pd.concat([final_df, emotion_detection_master_df], ignore_index=True)\n",
    "\n",
    "if goeomotions:\n",
    "    goemotions_df = load_goemotion_data()\n",
    "    final_df = pd.concat([final_df, goemotions_df], ignore_index=True)\n",
    "\n",
    "if fairy_tails:\n",
    "    fairy_tail_df = load_fairy_tail_data()\n",
    "    final_df = pd.concat([final_df, fairy_tail_df], ignore_index=True)\n",
    "\n",
    "if meld_masters:\n",
    "    meld_master_df = load_meld_master_data()\n",
    "    final_df = pd.concat([final_df, meld_master_df], ignore_index=True)\n",
    "\n",
    "if chatgpt_generated:\n",
    "    gpt_df = load_gpt_data()\n",
    "    final_df = pd.concat([final_df, gpt_df], ignore_index=True)\n",
    "\n",
    "if survivor:\n",
    "    survivor_df = load_survivor_data()\n",
    "    final_df = pd.concat([final_df, survivor_df], ignore_index=True)\n",
    "\n",
    "\n",
    "\n",
    "final_df[emotion_column_name] = final_df[emotion_column_name].replace('nan', np.nan)"
   ]
  },
  {
   "cell_type": "code",
   "execution_count": 5,
   "metadata": {},
   "outputs": [],
   "source": [
    "final_df.dropna(inplace=True)"
   ]
  },
  {
   "cell_type": "code",
   "execution_count": 6,
   "metadata": {},
   "outputs": [],
   "source": [
    "final_df = final_df.copy()\n",
    "final_df[emotion_column_name] = final_df[emotion_column_name].replace('Sad', Config.sad)\n",
    "final_df[emotion_column_name] = final_df[emotion_column_name].replace('Happy', Config.happy)\n",
    "final_df[emotion_column_name] = final_df[emotion_column_name].replace('Mad', Config.mad)\n",
    "final_df[emotion_column_name] = final_df[emotion_column_name].replace('Surprised', Config.surpised)\n",
    "final_df[emotion_column_name] = final_df[emotion_column_name].replace('Disgusted', Config.disgusted)\n",
    "final_df[emotion_column_name] = final_df[emotion_column_name].replace('Disgust', Config.disgusted)\n",
    "final_df[emotion_column_name] = final_df[emotion_column_name].replace('fear', Config.scared)\n",
    "final_df[emotion_column_name] = final_df[emotion_column_name].replace('Scared', Config.scared)"
   ]
  },
  {
   "cell_type": "code",
   "execution_count": 7,
   "metadata": {},
   "outputs": [
    {
     "data": {
      "text/plain": [
       "array(['happiness', 'sadness', 'scared', 'surprise', 'disgust', 'anger'],\n",
       "      dtype=object)"
      ]
     },
     "execution_count": 7,
     "metadata": {},
     "output_type": "execute_result"
    }
   ],
   "source": [
    "final_df[emotion_column_name].unique()"
   ]
  },
  {
   "cell_type": "code",
   "execution_count": 8,
   "metadata": {},
   "outputs": [
    {
     "name": "stdout",
     "output_type": "stream",
     "text": [
      "Changing the emotion column to happiness and other\n"
     ]
    }
   ],
   "source": [
    "if happiness_other:\n",
    "    print(\"Changing the emotion column to happiness and other\")\n",
    "    final_df['emotion'] = final_df['emotion'].apply(lambda x: 'other' if x != 'happiness' else 'happiness')\n",
    "\n",
    "if remove_stopword:\n",
    "    print(\"Removing the stopwords\")\n",
    "    final_df['sentence'] = final_df['sentence'].progress_apply(lambda x: remove_stopwords(x))\n",
    "\n",
    "if extract_sentiment:\n",
    "    print(\"Extracting the sentiment\")\n",
    "    if sentiment_library == 'nltk':\n",
    "        final_df[sentiment_colmn_name] = final_df['sentence'].progress_apply(lambda x: extract_sentiment_nltk(x, keep_only_compound=keep_only_compound, get_positive=get_positive, get_highest=get_highest))\n",
    "    \n",
    "if NER_extraction:\n",
    "    print(\"Extracting the NER tags\")\n",
    "    final_df[NER_colmn_name] = final_df['sentence'].progress_apply(lambda x: spacy_ner_tag(x))\n",
    "\n",
    "if POS_extraction:\n",
    "    print(\"Extracting the POS tags\")\n",
    "    final_df[POS_colmn_name] = final_df['sentence'].progress_apply(lambda x: nltk_pos_tag(x))\n",
    "\n",
    "if stemmer:\n",
    "    print(\"Applying the stemming\")\n",
    "    final_df['sentence'] = final_df['sentence'].progress_apply(lambda x: apply_stemming(x))\n"
   ]
  },
  {
   "cell_type": "code",
   "execution_count": 9,
   "metadata": {},
   "outputs": [
    {
     "data": {
      "text/html": [
       "<div>\n",
       "<style scoped>\n",
       "    .dataframe tbody tr th:only-of-type {\n",
       "        vertical-align: middle;\n",
       "    }\n",
       "\n",
       "    .dataframe tbody tr th {\n",
       "        vertical-align: top;\n",
       "    }\n",
       "\n",
       "    .dataframe thead th {\n",
       "        text-align: right;\n",
       "    }\n",
       "</style>\n",
       "<table border=\"1\" class=\"dataframe\">\n",
       "  <thead>\n",
       "    <tr style=\"text-align: right;\">\n",
       "      <th></th>\n",
       "      <th>sentence</th>\n",
       "      <th>emotion</th>\n",
       "    </tr>\n",
       "  </thead>\n",
       "  <tbody>\n",
       "    <tr>\n",
       "      <th>0</th>\n",
       "      <td>Test to predict breast cancer relapse is approved</td>\n",
       "      <td>happiness</td>\n",
       "    </tr>\n",
       "    <tr>\n",
       "      <th>1</th>\n",
       "      <td>Two Hussein allies are hanged, Iraqi official ...</td>\n",
       "      <td>other</td>\n",
       "    </tr>\n",
       "    <tr>\n",
       "      <th>2</th>\n",
       "      <td>Sights and sounds from CES</td>\n",
       "      <td>happiness</td>\n",
       "    </tr>\n",
       "    <tr>\n",
       "      <th>3</th>\n",
       "      <td>Schuey sees Ferrari unveil new car</td>\n",
       "      <td>happiness</td>\n",
       "    </tr>\n",
       "    <tr>\n",
       "      <th>4</th>\n",
       "      <td>Closings and cancellations top advice on flu o...</td>\n",
       "      <td>other</td>\n",
       "    </tr>\n",
       "    <tr>\n",
       "      <th>...</th>\n",
       "      <td>...</td>\n",
       "      <td>...</td>\n",
       "    </tr>\n",
       "    <tr>\n",
       "      <th>634705</th>\n",
       "      <td>I am extremely,extremely proud</td>\n",
       "      <td>happiness</td>\n",
       "    </tr>\n",
       "    <tr>\n",
       "      <th>634706</th>\n",
       "      <td>Survivor sometimes can be tough to understand</td>\n",
       "      <td>other</td>\n",
       "    </tr>\n",
       "    <tr>\n",
       "      <th>634707</th>\n",
       "      <td>because it's playing games, but it's serious</td>\n",
       "      <td>other</td>\n",
       "    </tr>\n",
       "    <tr>\n",
       "      <th>634708</th>\n",
       "      <td>I am in immense gratitude to have been able</td>\n",
       "      <td>happiness</td>\n",
       "    </tr>\n",
       "    <tr>\n",
       "      <th>634709</th>\n",
       "      <td>to be a part of Survivor 42, truly am.</td>\n",
       "      <td>happiness</td>\n",
       "    </tr>\n",
       "  </tbody>\n",
       "</table>\n",
       "<p>634709 rows × 2 columns</p>\n",
       "</div>"
      ],
      "text/plain": [
       "                                                 sentence    emotion\n",
       "0       Test to predict breast cancer relapse is approved  happiness\n",
       "1       Two Hussein allies are hanged, Iraqi official ...      other\n",
       "2                              Sights and sounds from CES  happiness\n",
       "3                      Schuey sees Ferrari unveil new car  happiness\n",
       "4       Closings and cancellations top advice on flu o...      other\n",
       "...                                                   ...        ...\n",
       "634705                     I am extremely,extremely proud  happiness\n",
       "634706      Survivor sometimes can be tough to understand      other\n",
       "634707       because it's playing games, but it's serious      other\n",
       "634708        I am in immense gratitude to have been able  happiness\n",
       "634709             to be a part of Survivor 42, truly am.  happiness\n",
       "\n",
       "[634709 rows x 2 columns]"
      ]
     },
     "execution_count": 9,
     "metadata": {},
     "output_type": "execute_result"
    }
   ],
   "source": [
    "final_df"
   ]
  },
  {
   "cell_type": "code",
   "execution_count": 10,
   "metadata": {},
   "outputs": [],
   "source": [
    "final_df.to_csv(f\"../processed_data/{final_dataset_name}\", index=False, compression='zip')"
   ]
  }
 ],
 "metadata": {
  "kernelspec": {
   "display_name": "NLP",
   "language": "python",
   "name": "python3"
  },
  "language_info": {
   "codemirror_mode": {
    "name": "ipython",
    "version": 3
   },
   "file_extension": ".py",
   "mimetype": "text/x-python",
   "name": "python",
   "nbconvert_exporter": "python",
   "pygments_lexer": "ipython3",
   "version": "3.12.1"
  }
 },
 "nbformat": 4,
 "nbformat_minor": 2
}
